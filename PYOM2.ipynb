{
 "cells": [
  {
   "cell_type": "markdown",
   "id": "45c52dbb-2626-4cc5-aeae-5d2a56b17777",
   "metadata": {},
   "source": [
    "# Data Types \n",
    "## 1) $integer$"
   ]
  },
  {
   "cell_type": "markdown",
   "id": "7843abc9-346e-4fb0-a312-03a0c4bf3686",
   "metadata": {},
   "source": [
    "#NUMBER SYSTEM\n",
    "- decimal\n",
    "- binary\n",
    "- octal\n",
    "- hexa\n",
    "\n",
    "##binary\n",
    "- bi means 2\n",
    "- so the base is also 2\n",
    "- so 2 digits are used : 0 and 1\n",
    "- representation: 0b<combination of 0 & 1>\n",
    "- Both capital and small \"O\" will work\n",
    "- eg: 0b1011, 0B110000\n",
    "\n"
   ]
  },
  {
   "cell_type": "code",
   "execution_count": 11,
   "id": "aced8223-c626-4740-baef-fe832ad03ad9",
   "metadata": {},
   "outputs": [
    {
     "data": {
      "text/plain": [
       "3"
      ]
     },
     "execution_count": 11,
     "metadata": {},
     "output_type": "execute_result"
    }
   ],
   "source": [
    " # OUTPUT will always in decimal \n",
    "#in binary 11 is 3== >>     1+2=3\n",
    "#2^n, 2^n-1, 2^3, 2^2, 2^1, 2^0=1\n",
    "#we are using 2 ki power bcoz base is 2\n",
    "\n",
    "0b11 "
   ]
  },
  {
   "cell_type": "code",
   "execution_count": 9,
   "id": "f17507d2-a44a-4084-a779-8c3a5dc1cfe7",
   "metadata": {},
   "outputs": [
    {
     "data": {
      "text/plain": [
       "7"
      ]
     },
     "execution_count": 9,
     "metadata": {},
     "output_type": "execute_result"
    }
   ],
   "source": [
    "0b111"
   ]
  },
  {
   "cell_type": "markdown",
   "id": "5aa8eea7-8ab8-48fd-a687-185e48dd4122",
   "metadata": {},
   "source": [
    "##Octal\n",
    "- octal means 8\n",
    "- so the base is also 8\n",
    "- so 8 digits are used : 0 1 2 3 4 5 6 7\n",
    "- representation: 0o<combination of 0 to 7>\n",
    "- Both capital and small \"O\" will work\n",
    "- eg: 0o123, 0O4752"
   ]
  },
  {
   "cell_type": "code",
   "execution_count": 21,
   "id": "7ec6f3a8-caf1-4471-9674-a814a3e03ff0",
   "metadata": {},
   "outputs": [
    {
     "data": {
      "text/plain": [
       "375"
      ]
     },
     "execution_count": 21,
     "metadata": {},
     "output_type": "execute_result"
    }
   ],
   "source": [
    "#  0o567= 5(8^2) + 6(8^1) + 7(8^0)   = 320 + 48 + 7 = 375\n",
    "0o567"
   ]
  },
  {
   "cell_type": "code",
   "execution_count": 25,
   "id": "d816cbb8-9a1c-42c3-9df5-7ff9e8a7e4d0",
   "metadata": {},
   "outputs": [
    {
     "data": {
      "text/plain": [
       "83"
      ]
     },
     "execution_count": 25,
     "metadata": {},
     "output_type": "execute_result"
    }
   ],
   "source": [
    "0O123"
   ]
  },
  {
   "cell_type": "markdown",
   "id": "e9a5c27c-44de-43bf-adde-a3c1d14daf3c",
   "metadata": {},
   "source": [
    "##Hexa\n",
    "\n",
    "- Hexa means 16\n",
    "- so the base is also 16\n",
    "- so 8 digits are used : 0 1 2 3 4 5 6 7 8 9 A  B  C  D  E  F\n",
    "-                                            10 11 12 13 14 15\n",
    "- representation: 0x<combination of 0 to 9 & A to F>\n",
    "- Both capital and small \"X\" will work\n",
    "- eg: 0X123, 0xAB752\n",
    "\n"
   ]
  },
  {
   "cell_type": "code",
   "execution_count": 27,
   "id": "3378940b-fb8d-44ba-b99f-3183eca9a515",
   "metadata": {},
   "outputs": [
    {
     "data": {
      "text/plain": [
       "702290"
      ]
     },
     "execution_count": 27,
     "metadata": {},
     "output_type": "execute_result"
    }
   ],
   "source": [
    "0xAB752"
   ]
  },
  {
   "cell_type": "markdown",
   "id": "9ea31de7-7a41-4459-88ed-2dc99e72f7a8",
   "metadata": {},
   "source": [
    "# 2) $float $"
   ]
  },
  {
   "cell_type": "code",
   "execution_count": 31,
   "id": "18078e53-f0c6-4c98-bb63-0a9807fa644c",
   "metadata": {},
   "outputs": [
    {
     "data": {
      "text/plain": [
       "float"
      ]
     },
     "execution_count": 31,
     "metadata": {},
     "output_type": "execute_result"
    }
   ],
   "source": [
    "num1= 123.23\n",
    "type(num1)"
   ]
  },
  {
   "cell_type": "markdown",
   "id": "52798015-9485-49b9-9eaf-2db2bee5ad35",
   "metadata": {},
   "source": [
    "# $ e $ $Represenatation$"
   ]
  },
  {
   "cell_type": "code",
   "execution_count": 37,
   "id": "e96bd1ba-2ded-49af-87d4-eb5ad77da959",
   "metadata": {},
   "outputs": [
    {
     "data": {
      "text/plain": [
       "10000.0"
      ]
     },
     "execution_count": 37,
     "metadata": {},
     "output_type": "execute_result"
    }
   ],
   "source": [
    "# 10* with 3 zeros = 10 * 1000 = 10000\n",
    "\n",
    "10e3 "
   ]
  },
  {
   "cell_type": "code",
   "execution_count": 39,
   "id": "f38a1d9c-b366-4db0-acec-7058530bb96d",
   "metadata": {},
   "outputs": [
    {
     "data": {
      "text/plain": [
       "10000.0"
      ]
     },
     "execution_count": 39,
     "metadata": {},
     "output_type": "execute_result"
    }
   ],
   "source": [
    "#10e3 and 10e+3 both are same\n",
    "\n",
    "10e+3 "
   ]
  },
  {
   "cell_type": "code",
   "execution_count": 45,
   "id": "b0f2267b-a841-4d92-963a-236c3edbd30e",
   "metadata": {},
   "outputs": [
    {
     "data": {
      "text/plain": [
       "100000.0"
      ]
     },
     "execution_count": 45,
     "metadata": {},
     "output_type": "execute_result"
    }
   ],
   "source": [
    "# 1e5 = 1 * 100000\n",
    "\n",
    "1e5 "
   ]
  },
  {
   "cell_type": "code",
   "execution_count": 47,
   "id": "acddcde7-a179-4684-ad84-fc13fcf035d7",
   "metadata": {},
   "outputs": [
    {
     "data": {
      "text/plain": [
       "0.01"
      ]
     },
     "execution_count": 47,
     "metadata": {},
     "output_type": "execute_result"
    }
   ],
   "source": [
    "# + means multiply and - means divide\n",
    "#10e-3 =10/1000 = 1/100 = 0.01\n",
    "10e-3"
   ]
  },
  {
   "cell_type": "code",
   "execution_count": 53,
   "id": "bce9c938-5ec8-4c2c-9999-8177e32cfeff",
   "metadata": {},
   "outputs": [
    {
     "data": {
      "text/plain": [
       "1.23e-08"
      ]
     },
     "execution_count": 53,
     "metadata": {},
     "output_type": "execute_result"
    }
   ],
   "source": [
    "# in ML ========== OUTPUT AS ZEROS\n",
    "#123e-10 = 123/10000000000 = 0.0000000000123\n",
    "123e-10  # as it is a 64 bit so it is giving different output"
   ]
  },
  {
   "cell_type": "code",
   "execution_count": 56,
   "id": "ba0664ab-40ee-44fc-9591-3b5e2733147c",
   "metadata": {},
   "outputs": [
    {
     "data": {
      "text/plain": [
       "0.00123"
      ]
     },
     "execution_count": 56,
     "metadata": {},
     "output_type": "execute_result"
    }
   ],
   "source": [
    "123e-5"
   ]
  },
  {
   "cell_type": "markdown",
   "id": "56ad2782-7ee7-4362-85d2-cc69fc1a74e2",
   "metadata": {},
   "source": [
    "# 3) $Strings$"
   ]
  },
  {
   "cell_type": "code",
   "execution_count": 59,
   "id": "26cd1ec5-3070-4df3-a6c4-bad944240001",
   "metadata": {},
   "outputs": [
    {
     "data": {
      "text/plain": [
       "str"
      ]
     },
     "execution_count": 59,
     "metadata": {},
     "output_type": "execute_result"
    }
   ],
   "source": [
    "name=\"python100_$^%&AUTRSJ29791\"\n",
    "type(name)"
   ]
  },
  {
   "cell_type": "markdown",
   "id": "1d0572a3-2b3a-4c50-98d0-c67322c3326c",
   "metadata": {},
   "source": [
    "# $doc$ $string$"
   ]
  },
  {
   "cell_type": "code",
   "execution_count": 67,
   "id": "49d70958-89d4-48da-a4ed-9b261090360e",
   "metadata": {},
   "outputs": [
    {
     "data": {
      "text/plain": [
       "'hieee\\n          how are you'"
      ]
     },
     "execution_count": 67,
     "metadata": {},
     "output_type": "execute_result"
    }
   ],
   "source": [
    "#when we use triple quote it known as doc string\n",
    "#doc string is very imp \n",
    "#in jupyter notebook we have: markdown option\n",
    "#in vs code or pycharm, we use: doc string\n",
    "name2= '''hieee\n",
    "          how are you'''\n",
    "name2"
   ]
  },
  {
   "cell_type": "code",
   "execution_count": null,
   "id": "b1244ce8-30d1-425e-b492-bf589c1b97aa",
   "metadata": {},
   "outputs": [],
   "source": [
    "################  data types\n",
    "1) integer\n",
    "    #binary\n",
    "    #octal\n",
    "    #hexa\n",
    "2)float\n",
    "3)String\n",
    "    #single quotes\n",
    "    #double quotes\n",
    "    #triple quotes == doc string == for writing some information\n",
    "4)boolean"
   ]
  },
  {
   "cell_type": "markdown",
   "id": "b3e01221-7a96-4b7a-95c0-fce7fbdd632c",
   "metadata": {},
   "source": [
    "# $4)$ $Boolean$"
   ]
  },
  {
   "cell_type": "code",
   "execution_count": 73,
   "id": "a24af26b-1239-4be0-8b37-7bb335ebd8fe",
   "metadata": {},
   "outputs": [],
   "source": [
    "# True = 1\n",
    "# False = 0"
   ]
  },
  {
   "cell_type": "code",
   "execution_count": 77,
   "id": "2f074bd1-de8b-40a3-98a8-68401e7227af",
   "metadata": {},
   "outputs": [
    {
     "data": {
      "text/plain": [
       "bool"
      ]
     },
     "execution_count": 77,
     "metadata": {},
     "output_type": "execute_result"
    }
   ],
   "source": [
    "val = True\n",
    "type(val)"
   ]
  },
  {
   "cell_type": "code",
   "execution_count": null,
   "id": "51e821a3-dc6c-41f5-bc24-b9c06a02829a",
   "metadata": {},
   "outputs": [],
   "source": [
    "name1 = True  #is boolean\n",
    "name2 = true #both name2 and true are variables #o/p true is not defined before\n",
    "name3 = \"true\" #is string"
   ]
  },
  {
   "cell_type": "code",
   "execution_count": 85,
   "id": "c30d364d-997e-438f-8417-402115e339ae",
   "metadata": {},
   "outputs": [
    {
     "name": "stdout",
     "output_type": "stream",
     "text": [
      "500\n",
      "900\n"
     ]
    }
   ],
   "source": [
    "a = 100\n",
    "b= 200\n",
    "a=b      #a=200        left= right .... left is always variable and right is always value\n",
    "b=a      #b=200\n",
    "a=500    #a=500..........latest\n",
    "b=a      #b=500\n",
    "b=900    #b=900........latest\n",
    "print(a) \n",
    "print(b)"
   ]
  },
  {
   "cell_type": "markdown",
   "id": "ae78ce9f-d8c4-4af1-a87b-0fbfed6c36a8",
   "metadata": {},
   "source": [
    "# $5)$ $complex$ $conjugate$"
   ]
  },
  {
   "cell_type": "markdown",
   "id": "849ac335-9989-4573-80f1-a9278ec9968f",
   "metadata": {},
   "source": [
    "- a + jb  is a complex conjugate\n",
    "- where a = real number and b= imaginary no.\n",
    "- j= sqrt(-1)"
   ]
  },
  {
   "cell_type": "code",
   "execution_count": 12,
   "id": "919f4c7c-80d0-49a4-814a-785b669b1d9d",
   "metadata": {},
   "outputs": [
    {
     "data": {
      "text/plain": [
       "complex"
      ]
     },
     "execution_count": 12,
     "metadata": {},
     "output_type": "execute_result"
    }
   ],
   "source": [
    "num3= 3+2j\n",
    "type(num3)"
   ]
  },
  {
   "cell_type": "code",
   "execution_count": 14,
   "id": "d901d824-ff82-4653-a610-06b8d41738ed",
   "metadata": {},
   "outputs": [
    {
     "data": {
      "text/plain": [
       "['__abs__',\n",
       " '__add__',\n",
       " '__bool__',\n",
       " '__class__',\n",
       " '__complex__',\n",
       " '__delattr__',\n",
       " '__dir__',\n",
       " '__doc__',\n",
       " '__eq__',\n",
       " '__format__',\n",
       " '__ge__',\n",
       " '__getattribute__',\n",
       " '__getnewargs__',\n",
       " '__getstate__',\n",
       " '__gt__',\n",
       " '__hash__',\n",
       " '__init__',\n",
       " '__init_subclass__',\n",
       " '__le__',\n",
       " '__lt__',\n",
       " '__mul__',\n",
       " '__ne__',\n",
       " '__neg__',\n",
       " '__new__',\n",
       " '__pos__',\n",
       " '__pow__',\n",
       " '__radd__',\n",
       " '__reduce__',\n",
       " '__reduce_ex__',\n",
       " '__repr__',\n",
       " '__rmul__',\n",
       " '__rpow__',\n",
       " '__rsub__',\n",
       " '__rtruediv__',\n",
       " '__setattr__',\n",
       " '__sizeof__',\n",
       " '__str__',\n",
       " '__sub__',\n",
       " '__subclasshook__',\n",
       " '__truediv__',\n",
       " 'conjugate',\n",
       " 'imag',\n",
       " 'real']"
      ]
     },
     "execution_count": 14,
     "metadata": {},
     "output_type": "execute_result"
    }
   ],
   "source": [
    "dir(num3)  # by this we know all the methods perform on particular variable"
   ]
  },
  {
   "cell_type": "code",
   "execution_count": 20,
   "id": "f233bdc8-c989-48f9-9608-890a4c865e61",
   "metadata": {},
   "outputs": [
    {
     "name": "stdout",
     "output_type": "stream",
     "text": [
      "3.0\n",
      "2.0\n",
      "(3-2j)\n"
     ]
    }
   ],
   "source": [
    "# if we want the value of only real no.value or imaginary value we use:\n",
    "\n",
    "print(num3.real)\n",
    "print(num3.imag)\n",
    "print(num3.conjugate())   #here + become - and - become +"
   ]
  },
  {
   "cell_type": "code",
   "execution_count": 24,
   "id": "a43520d4-111c-4b5f-a78c-9628a4bf73a7",
   "metadata": {},
   "outputs": [
    {
     "data": {
      "text/plain": [
       "(4+10j)"
      ]
     },
     "execution_count": 24,
     "metadata": {},
     "output_type": "execute_result"
    }
   ],
   "source": [
    "# method to create complex no.\n",
    "#put cursor inside bracket and press shift+tab to know parameters\n",
    "complex(4,10)"
   ]
  },
  {
   "cell_type": "code",
   "execution_count": 28,
   "id": "8f89f9d1-41f3-42a6-aa0a-f446a8b6c3f3",
   "metadata": {},
   "outputs": [
    {
     "data": {
      "text/plain": [
       "0j"
      ]
     },
     "execution_count": 28,
     "metadata": {},
     "output_type": "execute_result"
    }
   ],
   "source": [
    "complex()  # by default real and imag value is 0 ===> 0+0j"
   ]
  },
  {
   "cell_type": "markdown",
   "id": "b1eacb04-aa6d-476e-8239-bc333d28ece6",
   "metadata": {},
   "source": [
    "- whenever yoy see brackets() are known as function or method\n",
    "- we put values inside brackets are called parameters or arguments"
   ]
  },
  {
   "cell_type": "markdown",
   "id": "5df735a2-7a62-4e84-930d-72b1356f723b",
   "metadata": {},
   "source": [
    "# $type$ $casting$"
   ]
  },
  {
   "cell_type": "markdown",
   "id": "049928fb-ad2c-49e4-9623-e3047ead5133",
   "metadata": {},
   "source": [
    "################### # $type$ $casting$\n",
    "- in this we change type of a variable into another data type\n",
    "- num4= 100\n",
    "- int->float         x= float(num4) #o/p 100.0\n",
    "- int-> string       x=str(num4)  #o/p '100'\n",
    "- int-> boolean      x= bool(num4) #o/p True ... other  than zero everything is True... bool(0) o/p False\n",
    "- int-> complex      x= complex(num4) #o/p (100+0j)\n",
    "\n",
    "\n",
    "- num6= 100.5\n",
    "- float->int         x= int(num6) #o/p 100 .... no round off .. only remove decimal value\n",
    "- float-> string     x= str(num6)  #o/p '100.5'\n",
    "- float-> boolean     x= bool(num6) # o/p True\n",
    "- float-> complex    x=complex(num6) #o/p (100.5+0j)\n",
    "\n",
    "- string1=\"apple\"\n",
    "- str->int         x= int(string1)    # error\n",
    "- str->float       x= float(string1)  # error\n",
    "- str-> boolean    x= bool(string1)   # o/p True.. only False if string1=\"\"... empty string\n",
    "- str-> complex    x=complex(string1) #o/p error\n",
    "\n",
    "- string1=\"10.5\"\n",
    "- str->int         x= int(string1)    # error... bcoz base type is float \n",
    "- str->float       x= float(string1)  # 10.5\n",
    "- str-> boolean    x= bool(string1)   # o/p True.. only False if string1=\"\"... empty string\n",
    "- str-> complex    x=complex(string1) #o/p (10.5+0j)\n",
    "\n",
    "\n",
    "- bool8= True\n",
    "- int(bool8)      #o/p 1\n",
    "- float(bool8)    #o/p 1.0\n",
    "- str(bool8)      #o/p 'True'\n",
    "- complex(bool8)  #o/p (1+0j)\n",
    "\n",
    "- bool8= False    ################## for False\n",
    "- int(bool8)      #o/p 0\n",
    "- float(bool8)    #o/p 0.0\n",
    "- str(bool8)      #o/p 'False'\n",
    "- complex(bool8)  #o/p 0j\n",
    "\n",
    "- com= 100+200j\n",
    "- int(com)      #o/p error\n",
    "- float(com)    #o/p error\n",
    "- str(com)      #o/p \"100+200j\"\n",
    "- complex(com)  #o/p True"
   ]
  },
  {
   "cell_type": "code",
   "execution_count": 35,
   "id": "cf6389f4-af56-48df-a557-23c0c78df734",
   "metadata": {},
   "outputs": [
    {
     "name": "stdout",
     "output_type": "stream",
     "text": [
      "100\n"
     ]
    }
   ],
   "source": [
    "num=100.9\n",
    "print(int(num))"
   ]
  },
  {
   "cell_type": "code",
   "execution_count": 78,
   "id": "e912add7-684b-4cce-ae88-bfa7255d6d61",
   "metadata": {},
   "outputs": [
    {
     "name": "stdout",
     "output_type": "stream",
     "text": [
      "101\n",
      "0.6666666666666666\n",
      "0.67\n"
     ]
    }
   ],
   "source": [
    "#to round off\n",
    "print(round(100.6))\n",
    "div=200/300\n",
    "print(div)    # many values after decimal\n",
    "print(round(div,2))  # helps to round off value till 2nd decimal place"
   ]
  },
  {
   "cell_type": "code",
   "execution_count": 41,
   "id": "36b663e1-11bf-4fe9-b3c5-532760c34142",
   "metadata": {},
   "outputs": [
    {
     "ename": "ValueError",
     "evalue": "invalid literal for int() with base 10: '100.5'",
     "output_type": "error",
     "traceback": [
      "\u001b[1;31m---------------------------------------------------------------------------\u001b[0m",
      "\u001b[1;31mValueError\u001b[0m                                Traceback (most recent call last)",
      "Cell \u001b[1;32mIn[41], line 1\u001b[0m\n\u001b[1;32m----> 1\u001b[0m \u001b[38;5;28mint\u001b[39m(\u001b[38;5;124m'\u001b[39m\u001b[38;5;124m100.5\u001b[39m\u001b[38;5;124m'\u001b[39m)\n",
      "\u001b[1;31mValueError\u001b[0m: invalid literal for int() with base 10: '100.5'"
     ]
    }
   ],
   "source": [
    "int('10.5')"
   ]
  },
  {
   "cell_type": "code",
   "execution_count": 43,
   "id": "b3bbd2a4-001f-4cdf-af2b-7a0027ffd1ea",
   "metadata": {},
   "outputs": [
    {
     "data": {
      "text/plain": [
       "10.5"
      ]
     },
     "execution_count": 43,
     "metadata": {},
     "output_type": "execute_result"
    }
   ],
   "source": [
    "float(\"10.5\")"
   ]
  },
  {
   "cell_type": "code",
   "execution_count": 45,
   "id": "feb08327-99b9-4f1b-bf5c-b4c33722917f",
   "metadata": {},
   "outputs": [
    {
     "data": {
      "text/plain": [
       "True"
      ]
     },
     "execution_count": 45,
     "metadata": {},
     "output_type": "execute_result"
    }
   ],
   "source": [
    "bool(\"10.5\")"
   ]
  },
  {
   "cell_type": "code",
   "execution_count": 49,
   "id": "25bd61cd-0c4c-4fc5-9f8e-ca8b8f8a3f23",
   "metadata": {},
   "outputs": [
    {
     "data": {
      "text/plain": [
       "False"
      ]
     },
     "execution_count": 49,
     "metadata": {},
     "output_type": "execute_result"
    }
   ],
   "source": [
    "bool(\"\")"
   ]
  },
  {
   "cell_type": "code",
   "execution_count": 47,
   "id": "a80f46a2-091b-4778-8863-c929321b006b",
   "metadata": {},
   "outputs": [
    {
     "data": {
      "text/plain": [
       "(10.5+0j)"
      ]
     },
     "execution_count": 47,
     "metadata": {},
     "output_type": "execute_result"
    }
   ],
   "source": [
    "complex(\"10.5\")"
   ]
  },
  {
   "cell_type": "code",
   "execution_count": 54,
   "id": "ed825684-87d5-4166-8010-9730c815973d",
   "metadata": {},
   "outputs": [
    {
     "data": {
      "text/plain": [
       "10"
      ]
     },
     "execution_count": 54,
     "metadata": {},
     "output_type": "execute_result"
    }
   ],
   "source": [
    "# to convert 10.5 into 10\n",
    "st=\"10.5\"\n",
    "n1= float(st)\n",
    "n2=int(n1)\n",
    "n2"
   ]
  },
  {
   "cell_type": "code",
   "execution_count": 60,
   "id": "4d0e703d-3b18-4a76-b2ad-cadedef50f29",
   "metadata": {},
   "outputs": [
    {
     "name": "stdout",
     "output_type": "stream",
     "text": [
      "1\n",
      "1.0\n",
      "True\n",
      "(1+0j)\n"
     ]
    }
   ],
   "source": [
    "bool8= True\n",
    "print(int(bool8))      #o/p 1\n",
    "print(float(bool8))    #o/p 1.0\n",
    "print(str(bool8))      #o/p 'True' \n",
    "print(complex(bool8))  #o/p (1+0j)"
   ]
  },
  {
   "cell_type": "code",
   "execution_count": 64,
   "id": "1334d933-9bb3-4e8e-a4bf-20592a384b94",
   "metadata": {},
   "outputs": [
    {
     "name": "stdout",
     "output_type": "stream",
     "text": [
      "heyy & hiee are the ways to greet\n"
     ]
    }
   ],
   "source": [
    "# to add string and separate by end\"&\"\n",
    "print(\"heyy\", end=\" & \")\n",
    "print(\"hiee are the ways to greet\")"
   ]
  },
  {
   "cell_type": "code",
   "execution_count": 70,
   "id": "d3d34965-6bf4-4c0b-aeb2-5317a67415ef",
   "metadata": {},
   "outputs": [
    {
     "name": "stdout",
     "output_type": "stream",
     "text": [
      "heyy           hiee\n"
     ]
    }
   ],
   "source": [
    "print(\"heyy\", end=\"           \")\n",
    "print(\"hiee\") "
   ]
  },
  {
   "cell_type": "code",
   "execution_count": 68,
   "id": "cb040bd8-b21b-44ed-8d0a-845cec47ab05",
   "metadata": {},
   "outputs": [
    {
     "name": "stdout",
     "output_type": "stream",
     "text": [
      "a 1 465\n"
     ]
    }
   ],
   "source": [
    "print(\"a\",1,\"465\")"
   ]
  },
  {
   "cell_type": "code",
   "execution_count": 76,
   "id": "181c1ee5-3b80-4ef1-a8f6-36e975b9b06e",
   "metadata": {},
   "outputs": [
    {
     "name": "stdout",
     "output_type": "stream",
     "text": [
      "addition of a and b is : 300\n",
      "addition of 100 and 200 is: 300\n",
      "The Addition of 100 and 200 is : 300 \n"
     ]
    }
   ],
   "source": [
    "#different ways to print string with variables\n",
    "a= 100\n",
    "b= 200\n",
    "c=a+b\n",
    "print(\"addition of a and b is :\", c)\n",
    "print(\"addition of\",a,\"and\", b,\"is:\", c)\n",
    "print(\"The Addition of {} and {} is : {} \".format(a,b,c))"
   ]
  },
  {
   "cell_type": "code",
   "execution_count": 96,
   "id": "05a94c62-7b4f-4fb8-9a08-d04f95316aa3",
   "metadata": {},
   "outputs": [
    {
     "data": {
      "text/plain": [
       "10.0"
      ]
     },
     "execution_count": 96,
     "metadata": {},
     "output_type": "execute_result"
    }
   ],
   "source": [
    "a= 20/2  #division gives exact value in float type\n",
    "a"
   ]
  },
  {
   "cell_type": "code",
   "execution_count": 94,
   "id": "5d596c55-de46-4283-85d2-261085eeb009",
   "metadata": {},
   "outputs": [
    {
     "data": {
      "text/plain": [
       "1"
      ]
     },
     "execution_count": 94,
     "metadata": {},
     "output_type": "execute_result"
    }
   ],
   "source": [
    "a=11 % 2 # modulus gives remainder\n",
    "a"
   ]
  },
  {
   "cell_type": "code",
   "execution_count": 90,
   "id": "58cb6166-0897-42fa-b70e-a1450d64eaf2",
   "metadata": {},
   "outputs": [
    {
     "data": {
      "text/plain": [
       "1"
      ]
     },
     "execution_count": 90,
     "metadata": {},
     "output_type": "execute_result"
    }
   ],
   "source": [
    "a= 5//3  # floor division gives quotient\n",
    "a"
   ]
  },
  {
   "cell_type": "markdown",
   "id": "43dfae70-6fbf-4b03-82a2-b77ac6a30a47",
   "metadata": {},
   "source": [
    "# INPUT FROM USER"
   ]
  },
  {
   "cell_type": "code",
   "execution_count": 113,
   "id": "145f2ae2-2b98-466d-98e3-41c63e9f43d5",
   "metadata": {},
   "outputs": [
    {
     "name": "stdin",
     "output_type": "stream",
     "text": [
      "Enter your name Aanchal!!!!!!\n"
     ]
    },
    {
     "data": {
      "text/plain": [
       "'Aanchal!!!!!!'"
      ]
     },
     "execution_count": 113,
     "metadata": {},
     "output_type": "execute_result"
    }
   ],
   "source": [
    "#to get input from user\n",
    "input(\"Enter your name\")"
   ]
  },
  {
   "cell_type": "code",
   "execution_count": 121,
   "id": "84b4c2e6-f0fc-42a3-b6e1-4963d6c505cd",
   "metadata": {},
   "outputs": [
    {
     "name": "stdin",
     "output_type": "stream",
     "text": [
      "What is A for apple\n",
      "What is B for ball\n"
     ]
    }
   ],
   "source": [
    "n1=str(input(\"What is A for\"))\n",
    "n2=input(\"What is B for\")"
   ]
  },
  {
   "cell_type": "code",
   "execution_count": 123,
   "id": "d5eb6185-bf38-4c02-918c-0bfaff2d1439",
   "metadata": {},
   "outputs": [
    {
     "name": "stdout",
     "output_type": "stream",
     "text": [
      "apple ball\n"
     ]
    }
   ],
   "source": [
    "print(n1,n2)   # so here n1 store Apple........ and n2 store Ball"
   ]
  },
  {
   "cell_type": "code",
   "execution_count": 127,
   "id": "028c049e-451b-4e7e-9428-497c02345daa",
   "metadata": {},
   "outputs": [
    {
     "name": "stdin",
     "output_type": "stream",
     "text": [
      "enter 1st no. 40\n",
      "enter 2nd no. 90\n"
     ]
    },
    {
     "name": "stdout",
     "output_type": "stream",
     "text": [
      "The sum of 40 and 90 is: 4090\n"
     ]
    }
   ],
   "source": [
    "num1= input(\"enter 1st no.\")   # type(num1) is str so o/p is 4090\n",
    "num2= input(\"enter 2nd no.\")\n",
    "num3= num1 + num2\n",
    "print(\"The sum of {} and {} is: {}\".format(num1,num2,num3))"
   ]
  },
  {
   "cell_type": "code",
   "execution_count": 125,
   "id": "ff46c56f-b257-462c-92ba-8d1bbb2a6887",
   "metadata": {},
   "outputs": [
    {
     "name": "stdin",
     "output_type": "stream",
     "text": [
      "Enter first no. 5\n",
      "Enter second no. 15\n"
     ]
    },
    {
     "name": "stdout",
     "output_type": "stream",
     "text": [
      "The sum of 5 and 15.0 is: 20.0\n"
     ]
    }
   ],
   "source": [
    "#to add 2 values taken from user\n",
    "val1= int(input(\"Enter first no.\"))\n",
    "val2= float(input(\"Enter second no.\"))\n",
    "val3= val1 + val2\n",
    "print(\"The sum of {} and {} is: {}\".format(val1, val2, val3))"
   ]
  },
  {
   "cell_type": "markdown",
   "id": "1d5beb68-d77e-468e-be86-201e238ed2e5",
   "metadata": {},
   "source": [
    "## eval \n",
    "### is used to accept all type of data types as input.. \n",
    "### there will be no change in their data type... and is only for numbers\n",
    "### mainly used for numbers.... and for str use \"hello\""
   ]
  },
  {
   "cell_type": "code",
   "execution_count": 131,
   "id": "56dcf1b3-c19f-459f-b432-97d4ff62c677",
   "metadata": {},
   "outputs": [
    {
     "name": "stdin",
     "output_type": "stream",
     "text": [
      "Enter first no. 5\n",
      "Enter second no. 5.6\n"
     ]
    },
    {
     "name": "stdout",
     "output_type": "stream",
     "text": [
      "The sum of 5 and 5.6 is: 10.6\n"
     ]
    }
   ],
   "source": [
    "val1= eval(input(\"Enter first no.\"))\n",
    "val2= eval(input(\"Enter second no.\"))\n",
    "val3= val1 + val2\n",
    "print(\"The sum of {} and {} is: {}\".format(val1, val2, val3))"
   ]
  },
  {
   "cell_type": "code",
   "execution_count": 5,
   "id": "fd481300-7994-48af-9626-456c16435911",
   "metadata": {},
   "outputs": [
    {
     "name": "stdin",
     "output_type": "stream",
     "text": [
      "Enter first no. \"hello\"\n",
      "Enter second no. 'everyone'\n"
     ]
    },
    {
     "name": "stdout",
     "output_type": "stream",
     "text": [
      "hello everyone\n"
     ]
    }
   ],
   "source": [
    "val1= eval(input(\"Enter first no.\"))   # for string input use \"\" or '' quotes in eval\n",
    "val2= eval(input(\"Enter second no.\"))\n",
    "print(val1,val2)"
   ]
  },
  {
   "cell_type": "code",
   "execution_count": 9,
   "id": "cf9b0ab4-aad6-4f26-92f6-5b8304cca0e5",
   "metadata": {},
   "outputs": [
    {
     "name": "stdin",
     "output_type": "stream",
     "text": [
      "Enter first no. 1,2,3\n",
      "Enter second no. 4,2,7\n"
     ]
    },
    {
     "name": "stdout",
     "output_type": "stream",
     "text": [
      "(1, 2, 3) (4, 2, 7)\n"
     ]
    }
   ],
   "source": [
    "val1= eval(input(\"Enter first no.\"))   # for tuple input use direct in eval\n",
    "val2= eval(input(\"Enter second no.\"))\n",
    "print(val1,val2)"
   ]
  },
  {
   "cell_type": "code",
   "execution_count": 11,
   "id": "37e76710-6303-4f56-a371-e72ac37652d9",
   "metadata": {},
   "outputs": [
    {
     "name": "stdin",
     "output_type": "stream",
     "text": [
      "Enter first no. [1,2,3]\n",
      "Enter second no. (4,5,6)\n"
     ]
    },
    {
     "name": "stdout",
     "output_type": "stream",
     "text": [
      "[1, 2, 3] (4, 5, 6)\n"
     ]
    }
   ],
   "source": [
    "val1= eval(input(\"Enter first no.\"))   # for list input use [ ] in eval\n",
    "val2= eval(input(\"Enter second no.\"))   \n",
    "print(val1,val2)\n"
   ]
  },
  {
   "cell_type": "code",
   "execution_count": null,
   "id": "48b98539-0028-4930-a96e-e4c32bd2c742",
   "metadata": {},
   "outputs": [],
   "source": []
  }
 ],
 "metadata": {
  "kernelspec": {
   "display_name": "Python 3 (ipykernel)",
   "language": "python",
   "name": "python3"
  },
  "language_info": {
   "codemirror_mode": {
    "name": "ipython",
    "version": 3
   },
   "file_extension": ".py",
   "mimetype": "text/x-python",
   "name": "python",
   "nbconvert_exporter": "python",
   "pygments_lexer": "ipython3",
   "version": "3.12.7"
  }
 },
 "nbformat": 4,
 "nbformat_minor": 5
}
