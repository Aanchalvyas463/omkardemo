{
 "cells": [
  {
   "cell_type": "markdown",
   "id": "cccf78a6-bbab-45db-87e5-caf971a58263",
   "metadata": {},
   "source": [
    "# EXCEPTION HANDLING"
   ]
  },
  {
   "cell_type": "markdown",
   "id": "c327b4c3-e2aa-43d6-9bee-7da427235ea3",
   "metadata": {},
   "source": [
    "try - except\n",
    "- there are 2 blocks i.e. try block and except block\n",
    "- try : your code will be there in try block\n",
    "- error : it will have code to capture error\n",
    "- space == indentation i.e. 4 spaces"
   ]
  },
  {
   "cell_type": "code",
   "execution_count": 5,
   "id": "2b4b0644-a397-427c-8ffa-0224aaa9000e",
   "metadata": {},
   "outputs": [
    {
     "name": "stdout",
     "output_type": "stream",
     "text": [
      "30\n"
     ]
    }
   ],
   "source": [
    "# when there is no error in try-except code :\n",
    "\n",
    "try :\n",
    "    num = 10\n",
    "    num_2 = 20\n",
    "    add = num+ num_2\n",
    "    print(add)\n",
    "\n",
    "except :\n",
    "    print(\"Error is there, please check your code\")\n",
    "    "
   ]
  },
  {
   "cell_type": "code",
   "execution_count": 7,
   "id": "69d04001-3ec0-498c-92ba-8ae90859acba",
   "metadata": {},
   "outputs": [
    {
     "name": "stdout",
     "output_type": "stream",
     "text": [
      "Error is there, please check your code\n"
     ]
    }
   ],
   "source": [
    "# when there is a error in try-except code :\n",
    "\n",
    "try :\n",
    "    num = 10\n",
    "    num_2 = 0\n",
    "    div = num / num_2   # zero division error\n",
    "    print(div)         # it will give error too when variable is not found\n",
    "\n",
    "except :\n",
    "    print(\"Error is there, please check your code\")\n",
    "    "
   ]
  },
  {
   "cell_type": "code",
   "execution_count": 13,
   "id": "bbe4b67d-2d24-49f1-883d-3493972327b5",
   "metadata": {},
   "outputs": [
    {
     "name": "stdin",
     "output_type": "stream",
     "text": [
      "Enter no. 1 :  4\n",
      "Enter no. 2 :  5\n",
      "Enter no. 3 :  8\n"
     ]
    },
    {
     "name": "stdout",
     "output_type": "stream",
     "text": [
      "The error in code is :  name 'ccccccc' is not defined  !!! Please solve the error\n"
     ]
    }
   ],
   "source": [
    "# when you want to print the actual error i.e. what type of error it is\n",
    "# and you can add your string in the error msg too\n",
    "\n",
    "try :\n",
    "    a=eval(input(\"Enter no. 1 : \"))\n",
    "    b=eval(input(\"Enter no. 2 : \"))\n",
    "    c=eval(input(\"Enter no. 3 : \"))\n",
    "    avg = (a+b+ccccccc)/3                     # here variable ccccccc is not defined\n",
    "    print(\"Avg of {} ,{}, {} is {}\".format(a,b,c,avg))\n",
    "\n",
    "except Exception as e :\n",
    "    print(\"The error in code is : \",e, \" !!! Please solve the error\")\n",
    "    "
   ]
  },
  {
   "cell_type": "markdown",
   "id": "233fb759-b0e1-4269-bd44-4c64d7374307",
   "metadata": {},
   "source": [
    "# Conditional statements"
   ]
  },
  {
   "cell_type": "markdown",
   "id": "2d0eb434-627e-4c1a-bbab-47b1bb08c139",
   "metadata": {},
   "source": [
    "1) if\n",
    "2) if - else\n",
    "3) if - elif - else\n",
    "4) for loop\n",
    "5) while loop"
   ]
  },
  {
   "cell_type": "markdown",
   "id": "65125ba6-fa63-4f14-ad9b-afeb0b50ba6f",
   "metadata": {},
   "source": [
    "- = is used to assign value to variable\n",
    "- == is used to check condition (LHS really equals to RHS)"
   ]
  },
  {
   "cell_type": "code",
   "execution_count": 22,
   "id": "10ea78a9-0ac3-4d04-8eb4-fb8df5555fa7",
   "metadata": {},
   "outputs": [
    {
     "data": {
      "text/plain": [
       "True"
      ]
     },
     "execution_count": 22,
     "metadata": {},
     "output_type": "execute_result"
    }
   ],
   "source": [
    "name = 'python' # assign\n",
    "name== 'python' # condition.. thats why o/p is True "
   ]
  },
  {
   "cell_type": "markdown",
   "id": "9fac108a-5beb-42ea-aebf-7da122a9b2c9",
   "metadata": {},
   "source": [
    "## if condition"
   ]
  },
  {
   "cell_type": "code",
   "execution_count": 24,
   "id": "4b7f3d55-c259-41b8-97b4-6939c40b2ad1",
   "metadata": {},
   "outputs": [
    {
     "name": "stdout",
     "output_type": "stream",
     "text": [
      "Won, inside if \n"
     ]
    }
   ],
   "source": [
    "name = 'python'\n",
    "if name=='python' :\n",
    "    print(\"Won, inside if \")\n"
   ]
  },
  {
   "cell_type": "markdown",
   "id": "55d2026d-0a11-43ef-a6e3-e7ae46c616bc",
   "metadata": {},
   "source": [
    "## if - else condition "
   ]
  },
  {
   "cell_type": "code",
   "execution_count": 28,
   "id": "282edf33-2851-4486-b44a-73fd1cf2a928",
   "metadata": {},
   "outputs": [
    {
     "name": "stdout",
     "output_type": "stream",
     "text": [
      "Loss, inside else\n"
     ]
    }
   ],
   "source": [
    "name = 'python'\n",
    "if name=='pyt' :    # condition \n",
    "    print(\"Won, inside if \")  # if true\n",
    "else:\n",
    "    print(\"Loss, inside else\") # if false"
   ]
  },
  {
   "cell_type": "code",
   "execution_count": 34,
   "id": "155d11b1-b06c-4a5c-afbf-6ef88e7c856c",
   "metadata": {},
   "outputs": [
    {
     "name": "stdin",
     "output_type": "stream",
     "text": [
      "Enter a number :  4\n"
     ]
    },
    {
     "name": "stdout",
     "output_type": "stream",
     "text": [
      "Number 4 is EVEN\n"
     ]
    }
   ],
   "source": [
    "# to check even and odd numbers\n",
    "num= eval(input(\"Enter a number : \"))\n",
    "if(num%2==0):\n",
    "    print(\"Number {} is EVEN\". format(num))\n",
    "else:\n",
    "    print(\"Number {} is ODD\". format(num))"
   ]
  },
  {
   "cell_type": "code",
   "execution_count": 38,
   "id": "2a6fa40d-a3ae-4902-baf6-ba540c4e2c49",
   "metadata": {},
   "outputs": [
    {
     "name": "stdin",
     "output_type": "stream",
     "text": [
      "Enter a number :  fgd\n"
     ]
    },
    {
     "name": "stdout",
     "output_type": "stream",
     "text": [
      "name 'fgd' is not defined\n"
     ]
    }
   ],
   "source": [
    "try :\n",
    "    num= eval(input(\"Enter a number : \"))\n",
    "    if(num%2==0):\n",
    "        print(\"Number {} is EVEN\". format(num))\n",
    "    else:\n",
    "        print(\"Number {} is ODD\". format(num))\n",
    "except Exception as e :\n",
    "    print(e)"
   ]
  },
  {
   "cell_type": "code",
   "execution_count": 51,
   "id": "f62f6255-d47d-443c-88c3-61925a8cf195",
   "metadata": {},
   "outputs": [
    {
     "name": "stdout",
     "output_type": "stream",
     "text": [
      "Number 44 is EVEN\n"
     ]
    }
   ],
   "source": [
    "# to get no. randomly and check it is even or odd\n",
    "\n",
    "import random\n",
    "num= random.randint(1,50)\n",
    "if(num%2==0):\n",
    "    print(\"Number {} is EVEN\". format(num))\n",
    "else:\n",
    "    print(\"Number {} is ODD\". format(num))"
   ]
  },
  {
   "cell_type": "code",
   "execution_count": 74,
   "id": "5fbbfafc-e327-4bb7-a6aa-ae79f1815350",
   "metadata": {},
   "outputs": [
    {
     "name": "stdout",
     "output_type": "stream",
     "text": [
      "Number is 26 and you WON \n"
     ]
    }
   ],
   "source": [
    "# WAP to get random no. btw 1 to 200\n",
    "# print won, if no. is btw 10 to 99\n",
    "# otherwise print loss\n",
    "\n",
    "num = random.randint(1,200)\n",
    "if(num >= 10 and num <= 99):\n",
    "# if(10 =< num =< 99) :\n",
    "    print(\"Number is {} and you WON \".format(num))\n",
    "else:\n",
    "    print(\"Number is {} and you Loss\". format(num))"
   ]
  },
  {
   "cell_type": "markdown",
   "id": "47d6057d-fca0-49bc-ae7e-f21f554c985b",
   "metadata": {},
   "source": [
    "## if - elif - else condition  \n",
    "### you can use many elif between if - else"
   ]
  },
  {
   "cell_type": "code",
   "execution_count": 83,
   "id": "69da0db5-245f-4a14-94b2-bdf0c2d913a7",
   "metadata": {},
   "outputs": [
    {
     "name": "stdin",
     "output_type": "stream",
     "text": [
      "Enter Number :  0\n"
     ]
    },
    {
     "name": "stdout",
     "output_type": "stream",
     "text": [
      "Number 0 is zero \n"
     ]
    }
   ],
   "source": [
    "a= eval(input(\"Enter Number : \"))\n",
    "if a>0 :\n",
    "    print(\"Number {} is positive \".format(a))\n",
    "elif a<0 :\n",
    "    print(\"Number {} is negative \".format(a))\n",
    "else :\n",
    "     print(\"Number {} is zero \".format(a))"
   ]
  },
  {
   "cell_type": "markdown",
   "id": "fb1be00b-9ba9-4ff1-9c5f-99724611b0c7",
   "metadata": {},
   "source": [
    "# if-elif-elif-else condition"
   ]
  },
  {
   "cell_type": "code",
   "execution_count": 40,
   "id": "2ac84063-f212-43df-aa7a-75de993f8b3d",
   "metadata": {},
   "outputs": [
    {
     "name": "stdin",
     "output_type": "stream",
     "text": [
      "Enter distance in kilometers:  -50\n"
     ]
    },
    {
     "name": "stdout",
     "output_type": "stream",
     "text": [
      "Your charge is Rs.30\n"
     ]
    }
   ],
   "source": [
    "#WAP ask user to enter distance in km\n",
    "          #if dist is more than 10km : print charge is 100rs\n",
    "          #if dist is btw 7 to 10km : print charge is 70rs\n",
    "          #if dist is btw 4 to 7km : print charge is 40rs\n",
    "          #otherwise print charge is 30rs\n",
    "\n",
    "dist = eval(input(\"Enter distance in kilometers: \"))  #eval helps convert str into int\n",
    "if (dist>=10):\n",
    "    print(\"Your charge is Rs.100\")   #both will give same o/p\n",
    "elif((dist>=7)&(dist<10)) :            #elif dist>=7: \n",
    "    print(\"Your charge is Rs.70\")\n",
    "elif((dist>=4)&(dist<7)) :             #elif dist>=4:\n",
    "    print(\"Your charge is Rs.40\")\n",
    "else:\n",
    "    print(\"Your charge is Rs.30\")"
   ]
  },
  {
   "cell_type": "code",
   "execution_count": 43,
   "id": "d6cad02b-f0e5-4064-b90e-9b98d4afaa67",
   "metadata": {},
   "outputs": [
    {
     "name": "stdin",
     "output_type": "stream",
     "text": [
      "Enter your Salary:  500000\n",
      "Enter the user tax percentages:  10\n"
     ]
    },
    {
     "name": "stdout",
     "output_type": "stream",
     "text": [
      "The amount of tax paid:  50000.0\n"
     ]
    }
   ],
   "source": [
    "#WAP ask the user enter salary\n",
    "# if salary> 10 lks:\n",
    "#   ask user to enter the user tax percentages :10%\n",
    "#   print : the amount of tax paid : (salary*tax_per)/100\n",
    "#if salary btw 7 to 10 laks\n",
    "#   ask user to enter the user tax percentages : 5%\n",
    "#   print :the amount of tax paid\n",
    "#if salary btw 4 to 7 laks\n",
    "#   ask user to enter the user tax percentages : 2.5%\n",
    "#   print :the amount of tax paid\n",
    "#otherwise : print(\"No tax required\")\n",
    "\n",
    "# if_elif_elif_else\n",
    "\n",
    "salary= eval(input(\"Enter your Salary: \"))\n",
    "if salary >= 1000000 :\n",
    "    tax_per= eval(input(\"Enter the user tax percentages: \"))  # eval is used for numbers\n",
    "    print(\"The amount of tax paid: \", ((salary*tax_per)/100))\n",
    "elif salary >= 700000 :\n",
    "    tax_per= eval(input(\"Enter the user tax percentages: \"))\n",
    "    print(\"The amount of tax paid: \", ((salary*tax_per)/100))\n",
    "elif salary >= 400000 :\n",
    "    tax_per= eval(input(\"Enter the user tax percentages: \"))\n",
    "    print(\"The amount of tax paid: \", ((salary*tax_per)/100))\n",
    "else:\n",
    "    print(\"No tax is required\")"
   ]
  },
  {
   "cell_type": "code",
   "execution_count": 63,
   "id": "e2e1c2d1-3ef6-41de-9c17-1e1b43d2cc61",
   "metadata": {},
   "outputs": [
    {
     "name": "stdin",
     "output_type": "stream",
     "text": [
      "Enter which operation you want to do : addi\n",
      "Enter num_1:  5\n",
      "Enter num_2:  45\n"
     ]
    },
    {
     "name": "stdout",
     "output_type": "stream",
     "text": [
      "Please provide suitable operation i.e. addition, subtraction, multiplication, division\n"
     ]
    }
   ],
   "source": [
    " #WAP to create calculator\n",
    "try :\n",
    "    operation =input(\"Enter which operation you want to do :\")\n",
    "    num_1=eval(input(\"Enter num_1: \"))\n",
    "    num_2=eval(input(\"Enter num_2: \"))\n",
    "    if operation ==\"addition\" :\n",
    "        print(\"So we will perform {} here !!\".format(operation))\n",
    "        print(\"{} of {} and {} is :c{} \".format(operation,num_1,num_2,num_1+num_2))\n",
    "    elif operation ==\"subtraction\" :\n",
    "        print(\"So we will perform {} here !!\".format(operation))\n",
    "        print(\"{} of {} and {} is : {} \".format(operation,num_1,num_2,num_1-num_2))    \n",
    "    elif operation ==\"multiplication\" :\n",
    "        print(\"So we will perform {} here !!\".format(operation))\n",
    "        print(\"{} of {} and {} is : {} \".format(operation,num_1,num_2,num_1*num_2))\n",
    "    elif operation ==\"division\" :\n",
    "        print(\"So we will perform {} here !!\".format(operation))\n",
    "        print(\"{} of {} and {} is : {} \".format(operation,num_1,num_2,num_1/num_2))\n",
    "    else:\n",
    "        print(\"Please provide suitable operation i.e. addition, subtraction, multiplication, division\")\n",
    "\n",
    "except Exception as e:\n",
    "    print(e)"
   ]
  },
  {
   "cell_type": "code",
   "execution_count": 71,
   "id": "321502c1-2d69-41e6-b7c8-46f2f3504c32",
   "metadata": {},
   "outputs": [
    {
     "name": "stdin",
     "output_type": "stream",
     "text": [
      "Enter a Number: -4\n"
     ]
    },
    {
     "name": "stdout",
     "output_type": "stream",
     "text": [
      "The number -4 is Negative\n"
     ]
    }
   ],
   "source": [
    "# wap ask the user enter a number\n",
    "#if the number greater than zero:\n",
    "     #if the number == 0:\n",
    "         #print('it is a zero number')\n",
    "     #else:\n",
    "         #print(\"it is pos number\")\n",
    "# else:\n",
    "#print(\"it is a negative number\")\n",
    "\n",
    "num = int(input(\"Enter a Number:\"))\n",
    "if num >=0 :\n",
    "    if num==0 :\n",
    "        print(\"The number {} is Zero\".format(num))\n",
    "    else:\n",
    "        print(\"The number {} is Positive\".format(num))\n",
    "else:\n",
    "    print(\"The number {} is Negative\".format(num))"
   ]
  },
  {
   "cell_type": "code",
   "execution_count": null,
   "id": "6139cd0f-e77b-48df-80d1-00d2e4507447",
   "metadata": {},
   "outputs": [],
   "source": []
  },
  {
   "cell_type": "code",
   "execution_count": null,
   "id": "21a498a0-811a-4a22-82dc-1c244668e02b",
   "metadata": {},
   "outputs": [],
   "source": []
  },
  {
   "cell_type": "code",
   "execution_count": null,
   "id": "1cc72016-d6f7-49fa-9e01-67f427f764ef",
   "metadata": {},
   "outputs": [],
   "source": []
  },
  {
   "cell_type": "code",
   "execution_count": null,
   "id": "3a946f3e-49b9-422a-b1fc-963979c1345d",
   "metadata": {},
   "outputs": [],
   "source": []
  },
  {
   "cell_type": "code",
   "execution_count": null,
   "id": "0f238698-44ee-483a-bc33-bfec8c98ac76",
   "metadata": {},
   "outputs": [],
   "source": []
  }
 ],
 "metadata": {
  "kernelspec": {
   "display_name": "Python 3 (ipykernel)",
   "language": "python",
   "name": "python3"
  },
  "language_info": {
   "codemirror_mode": {
    "name": "ipython",
    "version": 3
   },
   "file_extension": ".py",
   "mimetype": "text/x-python",
   "name": "python",
   "nbconvert_exporter": "python",
   "pygments_lexer": "ipython3",
   "version": "3.12.7"
  }
 },
 "nbformat": 4,
 "nbformat_minor": 5
}
