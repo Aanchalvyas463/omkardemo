{
 "cells": [
  {
   "cell_type": "markdown",
   "id": "c7d374be-a821-408a-aed2-e1c40a708927",
   "metadata": {},
   "source": [
    "# Functions"
   ]
  },
  {
   "cell_type": "markdown",
   "id": "a4e7efbd-8270-4dba-89ac-0dd396a3db4e",
   "metadata": {},
   "source": [
    "*Functions*\n",
    "**Functions**\n",
    "***Functions***\n",
    "# Function\n",
    "# **Function**\n",
    "- for different font type\n",
    "   "
   ]
  },
  {
   "cell_type": "code",
   "execution_count": null,
   "id": "7908dd34-7d84-4db6-aa84-0151464997f7",
   "metadata": {},
   "outputs": [],
   "source": [
    "- used to reuse any part of the code\n",
    "- syntax : def <function_name>():\n",
    "              # write your code\n",
    "           #now call the function\n",
    "           <function_name>()"
   ]
  },
  {
   "cell_type": "markdown",
   "id": "2f28cd59-ed22-43eb-9645-3b218f287575",
   "metadata": {},
   "source": [
    "## note:\n",
    "we are not sure, that the function is defined correctly or not\n",
    "untill unless we call the function"
   ]
  },
  {
   "cell_type": "markdown",
   "id": "5e282bcf-4a7a-4ac3-9e62-cadefa68ee54",
   "metadata": {},
   "source": [
    "- if you are not mentioning any values inside the function bracket \n",
    "-  the method is called = **without arguments/ without parameters** \n",
    "\n",
    "- if you are mentioning any value inside the function bracket\n",
    "- the method is called = **with arguments/ with parameters**\n",
    "-    here if any variable is initialize in def  == **default parameters**\n",
    "-    eg: def add(n1,n2,n3=40) :"
   ]
  },
  {
   "cell_type": "markdown",
   "id": "d1598651-ee2f-4e78-850f-bd2d9e82036b",
   "metadata": {},
   "source": [
    "## **Without arguments/ without parameters**"
   ]
  },
  {
   "cell_type": "code",
   "execution_count": 9,
   "id": "f18e925d-6856-45dd-8be6-e18dcc8a0fdd",
   "metadata": {},
   "outputs": [
    {
     "name": "stdout",
     "output_type": "stream",
     "text": [
      "Addition of 10 and 20 is 30 :\n"
     ]
    }
   ],
   "source": [
    "# it is a normal program\n",
    "n1=10\n",
    "n2=20\n",
    "add=n1+n2\n",
    "print(\"Addition of {} and {} is {} :\".format(n1,n2,add))"
   ]
  },
  {
   "cell_type": "code",
   "execution_count": 17,
   "id": "c77c7e5b-d8fa-41f6-9c3f-0c54f1410ba6",
   "metadata": {},
   "outputs": [
    {
     "name": "stdout",
     "output_type": "stream",
     "text": [
      "The Addition of 10 and 20 is 30 :\n"
     ]
    }
   ],
   "source": [
    "#we create function named addition and define it and call it \n",
    "def addition():\n",
    "    n1=10\n",
    "    n2=20\n",
    "    add=n1+n2\n",
    "    print(\"The Addition of {} and {} is {} :\".format(n1,n2,add))\n",
    "addition()"
   ]
  },
  {
   "cell_type": "code",
   "execution_count": 19,
   "id": "f2b4ac14-f03b-444f-aff7-36b107e7eed8",
   "metadata": {},
   "outputs": [
    {
     "name": "stdin",
     "output_type": "stream",
     "text": [
      "Enter 1st number:  4\n",
      "Enter 2nd number:  6\n",
      "Enter 3rd number:  2\n"
     ]
    },
    {
     "name": "stdout",
     "output_type": "stream",
     "text": [
      "The average of 4,6,2 is 4.0\n"
     ]
    }
   ],
   "source": [
    "# to make avg of 3 numbers using function\n",
    "def average():\n",
    "    n1=eval(input(\"Enter 1st number: \"))\n",
    "    n2=eval(input(\"Enter 2nd number: \"))\n",
    "    n3=eval(input(\"Enter 3rd number: \"))\n",
    "    avg=(n1+n2+n3)/3\n",
    "    print(\"The average of {},{},{} is {}\".format(n1,n2,n3,avg))\n",
    "average()"
   ]
  },
  {
   "cell_type": "code",
   "execution_count": 26,
   "id": "fc05cf7b-5d2e-424d-b53e-0b87a0047544",
   "metadata": {},
   "outputs": [
    {
     "name": "stdin",
     "output_type": "stream",
     "text": [
      "Enter 1st number:  5\n",
      "Enter 2nd number:  \"a\"\n",
      "Enter 3rd number:  6\n"
     ]
    },
    {
     "name": "stdout",
     "output_type": "stream",
     "text": [
      "There is a error in the following code\n",
      "unsupported operand type(s) for +: 'int' and 'str'\n"
     ]
    }
   ],
   "source": [
    "# using the same above function in try except\n",
    "\n",
    "try :\n",
    "    def average():\n",
    "        n1=eval(input(\"Enter 1st number: \"))\n",
    "        n2=eval(input(\"Enter 2nd number: \"))\n",
    "        n3=eval(input(\"Enter 3rd number: \"))\n",
    "        avg=(n1+n2+n3)/3\n",
    "        print(\"The average of {},{},{} is {}\".format(n1,n2,n3,avg))\n",
    "    average()\n",
    "\n",
    "except Exception as e:\n",
    "    print(\"There is a error in the following code\")\n",
    "    print(e)"
   ]
  },
  {
   "cell_type": "code",
   "execution_count": 30,
   "id": "bf7d086f-494c-473d-81fe-1a6eac33beed",
   "metadata": {},
   "outputs": [
    {
     "name": "stdin",
     "output_type": "stream",
     "text": [
      "Enter 1st number:  5\n",
      "Enter 2nd number:  6\n",
      "Enter 3rd number:  8\n"
     ]
    },
    {
     "name": "stdout",
     "output_type": "stream",
     "text": [
      "There is a error\n",
      "name 'n3456' is not defined\n"
     ]
    }
   ],
   "source": [
    "# or you can write the above code as:\n",
    "def avg1():\n",
    "    try:\n",
    "        n1=eval(input(\"Enter 1st number: \"))\n",
    "        n2=eval(input(\"Enter 2nd number: \"))\n",
    "        n3=eval(input(\"Enter 3rd number: \"))\n",
    "        avg=(n1+n2+n3456)/3\n",
    "        print(\"The average of {},{},{} is {}\".format(n1,n2,n3,avg))\n",
    "    except Exception as e:\n",
    "        print(\"There is a error\")\n",
    "        print(e)\n",
    "avg1()"
   ]
  },
  {
   "cell_type": "code",
   "execution_count": 32,
   "id": "7e474cf1-bf35-449e-b021-893dff81b0bd",
   "metadata": {},
   "outputs": [
    {
     "name": "stdin",
     "output_type": "stream",
     "text": [
      "Enter the bill amount 500\n",
      "Enter the tip amount 200\n"
     ]
    },
    {
     "name": "stdout",
     "output_type": "stream",
     "text": [
      "Total amount:  700\n"
     ]
    }
   ],
   "source": [
    "#WAP ask user to get bill amount and tip amount\n",
    "#calculate total bill using function\n",
    "def bill():\n",
    "    try:\n",
    "        bill_amt = eval(input(\"Enter the bill amount\"))\n",
    "        tip_amt = eval(input(\"Enter the tip amount\"))\n",
    "        total_amt = bill_amt + tip_amt\n",
    "        print(\"Total amount: \",total_amt)\n",
    "    except Exception as e:\n",
    "        print(e)\n",
    "bill()"
   ]
  },
  {
   "cell_type": "code",
   "execution_count": 52,
   "id": "1de1b0c8-0b98-4516-91cd-a570288e5095",
   "metadata": {},
   "outputs": [
    {
     "name": "stdout",
     "output_type": "stream",
     "text": [
      "The number generated by random function is: 29\n",
      "So, The given number 29 is odd number.\n"
     ]
    }
   ],
   "source": [
    "# WAP ask user get a random no. btw 1 to 100\n",
    "#print it is even or odd number\n",
    "#implement using function\n",
    "import random\n",
    "def even_odd():\n",
    "    try:\n",
    "        a=random.randint(1,100)\n",
    "        print(\"The number generated by random function is:\",a)\n",
    "        if (a%2==0):\n",
    "            print(\"So, The given number {} is even number.\".format(a))\n",
    "        else:\n",
    "            print(\"So, The given number {} is odd number.\".format(a))\n",
    "    except Exception as e:\n",
    "        print(e)\n",
    "\n",
    "even_odd()\n"
   ]
  },
  {
   "cell_type": "code",
   "execution_count": 54,
   "id": "37e34dcf-1341-4f83-b53e-31ae606b62e3",
   "metadata": {},
   "outputs": [
    {
     "name": "stdout",
     "output_type": "stream",
     "text": [
      "Hello everyone\n",
      "defining function\n",
      "calling function to execute\n",
      "The number generated by random function is: 99\n",
      "So, The given number 99 is odd number.\n",
      "function ran successfully!! all done.\n"
     ]
    }
   ],
   "source": [
    "import random\n",
    "print(\"Hello everyone\")                  # runs 1st\n",
    "print(\"defining function\")               #runs 2nd\n",
    "def even_odd():                          # function become comment until it is not called\n",
    "    try:\n",
    "        a=random.randint(1,100)\n",
    "        print(\"The number generated by random function is:\",a)          #5th\n",
    "        if (a%2==0):\n",
    "            print(\"So, The given number {} is even number.\".format(a))  #6th\n",
    "        else:\n",
    "            print(\"So, The given number {} is odd number.\".format(a))   #6th\n",
    "    except Exception as e:\n",
    "        print(e)\n",
    "print(\"calling function to execute\")        #runs 3rd \n",
    "even_odd()                                 #runs 4th \n",
    "print(\"function ran successfully!! all done.\")                       # 7th"
   ]
  },
  {
   "cell_type": "markdown",
   "id": "9b263b9a-537c-458f-9bd9-ef6e3fa913af",
   "metadata": {},
   "source": [
    "## **With arguments/ with parameters**"
   ]
  },
  {
   "cell_type": "code",
   "execution_count": 65,
   "id": "80e379c9-9f61-4d63-9e0c-9cbe7f58f4c3",
   "metadata": {},
   "outputs": [
    {
     "name": "stdout",
     "output_type": "stream",
     "text": [
      "The addition of 3 and 5 is: 8\n"
     ]
    }
   ],
   "source": [
    "# by direct value\n",
    "def addition(a,b):\n",
    "    add= a+b\n",
    "    print(\"The addition of {} and {} is: {}\".format(a,b,add))\n",
    "\n",
    "addition(3,5)"
   ]
  },
  {
   "cell_type": "code",
   "execution_count": 75,
   "id": "fda9ed0d-7b1e-4196-806a-1835f2d38c9d",
   "metadata": {},
   "outputs": [
    {
     "name": "stdin",
     "output_type": "stream",
     "text": [
      "Enter 1st number:  5\n",
      "Enter 2nd number:  10\n"
     ]
    },
    {
     "name": "stdout",
     "output_type": "stream",
     "text": [
      "The addition of 5 and 10 is: 15\n"
     ]
    }
   ],
   "source": [
    "#by asking value as input \n",
    "def addition(a,b):\n",
    "    add= a+b\n",
    "    print(\"The addition of {} and {} is: {}\".format(a,b,add))\n",
    "num_1= eval(input(\"Enter 1st number: \"))\n",
    "num_2= eval(input(\"Enter 2nd number: \"))\n",
    "addition(num_1,num_2)"
   ]
  },
  {
   "cell_type": "code",
   "execution_count": 77,
   "id": "12d4d360-a032-409a-bf37-4aab9c20526c",
   "metadata": {},
   "outputs": [
    {
     "name": "stdout",
     "output_type": "stream",
     "text": [
      "5\n",
      "1234\n"
     ]
    }
   ],
   "source": [
    "# to get sum of digits in numner\n",
    "#eg. 12345.... 1+2+3+4+5\n",
    "v1=12345%10\n",
    "v2=12345//10\n",
    "print(v1)  # isme last digit mil gyi\n",
    "print(v2)   # isme baaki saare no. saves ho gye except last one\n",
    "#perform same tasks to retrieve all digits and sum-up them\n",
    "#easy!!"
   ]
  },
  {
   "cell_type": "code",
   "execution_count": 82,
   "id": "26c8fc75-efa4-48bf-9b3f-d8abcc1cf9ca",
   "metadata": {},
   "outputs": [
    {
     "name": "stdin",
     "output_type": "stream",
     "text": [
      "Provide a no. to be squared:  5\n"
     ]
    },
    {
     "name": "stdout",
     "output_type": "stream",
     "text": [
      "Square of 5 is 25\n"
     ]
    }
   ],
   "source": [
    "# to find square of a number.... in 3 diff ways\n",
    "#  1st way\n",
    "a=eval(input(\"Provide a no. to be squared: \"))\n",
    "sq=a**2\n",
    "print(\"Square of {} is {}\".format(a,sq))"
   ]
  },
  {
   "cell_type": "code",
   "execution_count": 86,
   "id": "2a4de3b3-414d-4127-82be-88aae9e8d66f",
   "metadata": {},
   "outputs": [
    {
     "name": "stdin",
     "output_type": "stream",
     "text": [
      "Provide a no. to be squared:  13\n"
     ]
    },
    {
     "name": "stdout",
     "output_type": "stream",
     "text": [
      "Square of 13 is 169\n"
     ]
    }
   ],
   "source": [
    "# 2nd way\n",
    "def sq():\n",
    "    a=eval(input(\"Provide a no. to be squared: \"))\n",
    "    sq=a**2\n",
    "    print(\"Square of {} is {}\".format(a,sq))\n",
    "\n",
    "sq()"
   ]
  },
  {
   "cell_type": "code",
   "execution_count": 92,
   "id": "68ea4067-fcb3-4c44-8fa3-447181badb8c",
   "metadata": {},
   "outputs": [
    {
     "name": "stdin",
     "output_type": "stream",
     "text": [
      "Enter a number:  6\n",
      "Enter the power:  3\n"
     ]
    },
    {
     "name": "stdout",
     "output_type": "stream",
     "text": [
      "The value of 6 to the power 3 is: 216\n"
     ]
    }
   ],
   "source": [
    "#   3rd way\n",
    "def power(num, power):\n",
    "    output = num**power\n",
    "    print(\"The value of {} to the power {} is: {}\".format(num,power,output))\n",
    "    \n",
    "a= eval(input(\"Enter a number: \"))\n",
    "b= eval(input(\"Enter the power: \"))\n",
    "power(a,b)"
   ]
  },
  {
   "cell_type": "code",
   "execution_count": 3,
   "id": "280d4f21-cd09-40c7-ab06-21f660c16c66",
   "metadata": {},
   "outputs": [
    {
     "name": "stdout",
     "output_type": "stream",
     "text": [
      "The no. generated randomly is: 15\n",
      "Offo!!, You LOST \n"
     ]
    }
   ],
   "source": [
    "# WAP ask user\n",
    "# get one random no. btw 1 to 20\n",
    "# enter a no.\n",
    "# compare these two no.\n",
    "# if both are same : print(\"you won\")\n",
    "# else: print(\"lost\")\n",
    "\n",
    "#method 1 : write in normal way\n",
    "#method 2 : create a function without arguments\n",
    "#method 3 : create a function with arguments\n",
    "\n",
    "import random\n",
    "r= random.randint(1,20)\n",
    "print(\"The no. generated randomly is:\",r)\n",
    "a= eval(input(\"Enter a number you want to compare: \"))\n",
    "if a==r :\n",
    "    print(\"Yeah!!, You WON \")\n",
    "else:\n",
    "    print(\"Offo!!, You LOST \")\n",
    "    "
   ]
  },
  {
   "cell_type": "code",
   "execution_count": 6,
   "id": "59e54c98-7f08-4afd-bdd7-c1ead1657b0b",
   "metadata": {},
   "outputs": [
    {
     "name": "stdout",
     "output_type": "stream",
     "text": [
      "The no. generated randomly is: 3\n"
     ]
    },
    {
     "name": "stdin",
     "output_type": "stream",
     "text": [
      "Enter a number you want to compare:  3\n"
     ]
    },
    {
     "name": "stdout",
     "output_type": "stream",
     "text": [
      "Yeah!!, You WON \n"
     ]
    }
   ],
   "source": [
    "# 2nd method :\n",
    "from random import randint\n",
    "def compare():\n",
    "    r= randint(1,20)\n",
    "    print(\"The no. generated randomly is:\",r)\n",
    "    a= eval(input(\"Enter a number you want to compare: \"))\n",
    "    if a==r :\n",
    "        print(\"Yeah!!, You WON \")\n",
    "    else:\n",
    "        print(\"Offo!!, You LOST \")\n",
    "        \n",
    "compare()"
   ]
  },
  {
   "cell_type": "code",
   "execution_count": 104,
   "id": "a8b4e0fc-e4cc-4451-b9de-425e9269db93",
   "metadata": {},
   "outputs": [
    {
     "name": "stdout",
     "output_type": "stream",
     "text": [
      "The no. generated randomly is: 10\n"
     ]
    },
    {
     "name": "stdin",
     "output_type": "stream",
     "text": [
      "Enter a number you want to compare:  10\n"
     ]
    },
    {
     "name": "stdout",
     "output_type": "stream",
     "text": [
      "Yeah!!, You WON \n"
     ]
    }
   ],
   "source": [
    "# 3rd method.... here global and local are same named variable \n",
    "def compare(a,r):\n",
    "    if a==r :\n",
    "        print(\"Yeah!!, You WON \")\n",
    "    else:\n",
    "        print(\"Offo!!, You LOST \")\n",
    "\n",
    "\n",
    "r= random.randint(1,20)\n",
    "print(\"The no. generated randomly is:\",r)\n",
    "a= eval(input(\"Enter a number you want to compare: \"))        \n",
    "compare(r,a)"
   ]
  },
  {
   "cell_type": "code",
   "execution_count": null,
   "id": "6cfed14e-ac70-4f92-8af5-a87229061fd0",
   "metadata": {},
   "outputs": [],
   "source": [
    "# The values you are using in function must be defined before function call\n",
    "#means:\n",
    "#1st step : import random\n",
    "#2nd step : function will be define : not run\n",
    "#3rd step : making values to parameter.. above it is a, r.. \n",
    "            #also you can initialize variables before functn definition too\n",
    "#4th step : calling the function ====> moves to 2nd step.. o/p as WIN or LOSS. "
   ]
  },
  {
   "cell_type": "code",
   "execution_count": 14,
   "id": "62e2b9e1-1ebf-4ef6-9c5c-1cc603cb5bb8",
   "metadata": {},
   "outputs": [
    {
     "name": "stdin",
     "output_type": "stream",
     "text": [
      "Enter a Number :  5\n"
     ]
    },
    {
     "name": "stdout",
     "output_type": "stream",
     "text": [
      "You LOSS !! because random no. is:  14\n"
     ]
    }
   ],
   "source": [
    "#4th method \n",
    "import random\n",
    "def compare(random_num, num) :\n",
    "    if random_num == num :\n",
    "        print(\"You WIN !! because random no. is: \",random_num)\n",
    "    else:\n",
    "        print(\"You LOSS !! because random no. is: \",random_num)\n",
    "\n",
    "# you can provide the parameters in this way too.\n",
    "compare(random.randint(1,20), eval(input(\"Enter a Number : \")))\n",
    "        "
   ]
  },
  {
   "cell_type": "markdown",
   "id": "0dbee963-4364-4ead-b36e-f5ec8f16cb32",
   "metadata": {},
   "source": [
    "### default parameters/ arguments\n",
    "#### where atleast one parameter is fixed (equal to wale during def)\n",
    "- you have to pass non_default first than default_arguments in function defining and calling\n",
    "- keep default parameters at last\n",
    "- it simply means that if no value is for variable during calling so it will pick default value\n",
    "- otherwise during calling values will be updated value for that variable "
   ]
  },
  {
   "cell_type": "code",
   "execution_count": 21,
   "id": "3d920a30-7a4e-4d33-b814-ea1ef8491c32",
   "metadata": {},
   "outputs": [
    {
     "name": "stdout",
     "output_type": "stream",
     "text": [
      "Total tax is :  2000.0\n"
     ]
    }
   ],
   "source": [
    "#WAP ask user for salary, tax percent is fix => 20%, find total salary\n",
    "def tax_cal(salary,tax_per=20):   # here tax_per is default arguments\n",
    "    total_tax = (salary * tax_per)/100\n",
    "    print(\"Total tax is : \",total_tax)\n",
    "\n",
    "tax_cal(10000)"
   ]
  },
  {
   "cell_type": "code",
   "execution_count": 33,
   "id": "acd621c0-53d8-490f-966c-4f80584d7ab1",
   "metadata": {},
   "outputs": [
    {
     "name": "stdout",
     "output_type": "stream",
     "text": [
      "num1:  20\n",
      "num2:  30\n",
      "num3:  50\n",
      "The avg is:  33.333333333333336\n"
     ]
    }
   ],
   "source": [
    "def avg(one,two,three=50):\n",
    "    print(\"num1: \", one)  #20\n",
    "    print(\"num2: \",two)   # 30\n",
    "    print(\"num3: \",three)   # 50.. by function definition\n",
    "    add=(one+two+three)\n",
    "    avg=add/3\n",
    "    print(\"The avg is: \",avg)\n",
    "\n",
    "avg(20,30)   # here we ask 2 variables only bcoz one is defined"
   ]
  },
  {
   "cell_type": "code",
   "execution_count": 35,
   "id": "743a5166-cd4e-4aef-a28a-bbb2cd7a3902",
   "metadata": {},
   "outputs": [
    {
     "name": "stdout",
     "output_type": "stream",
     "text": [
      "num1:  20\n",
      "num2:  30\n",
      "num3:  100\n",
      "The avg is:  50.0\n"
     ]
    }
   ],
   "source": [
    "#assigning the 3rd parameter again while calling function\n",
    "def avg(one,two,three=50):\n",
    "    print(\"num1: \", one)   #20\n",
    "    print(\"num2: \",two)    #30\n",
    "    print(\"num3: \",three)  # not 50... its 100\n",
    "    add=(one+two+three)\n",
    "    avg=add/3\n",
    "    print(\"The avg is: \",avg)\n",
    "    \n",
    "# here we can write 3rd value as 100 so three=100.. latest value while calling\n",
    "avg(20,30,100) "
   ]
  },
  {
   "cell_type": "code",
   "execution_count": 37,
   "id": "8a71dc59-d3f6-4714-bec5-b0135696b37f",
   "metadata": {},
   "outputs": [
    {
     "name": "stdout",
     "output_type": "stream",
     "text": [
      "100 200 300\n"
     ]
    }
   ],
   "source": [
    "a,b,c =100,200,300\n",
    "print(a,b,c)"
   ]
  },
  {
   "cell_type": "code",
   "execution_count": 40,
   "id": "8c28e54a-bd3c-4f1c-8d7f-cb92c08003e2",
   "metadata": {},
   "outputs": [
    {
     "ename": "SyntaxError",
     "evalue": "parameter without a default follows parameter with a default (1113764183.py, line 2)",
     "output_type": "error",
     "traceback": [
      "\u001b[1;36m  Cell \u001b[1;32mIn[40], line 2\u001b[1;36m\u001b[0m\n\u001b[1;33m    def avg(one,two=300000,three):\u001b[0m\n\u001b[1;37m                           ^\u001b[0m\n\u001b[1;31mSyntaxError\u001b[0m\u001b[1;31m:\u001b[0m parameter without a default follows parameter with a default\n"
     ]
    }
   ],
   "source": [
    "# defining non_default first than default_arguments... if not so will generate error\n",
    "def avg(one,two=300000,three):\n",
    "    print(\"num1: \", one)    #20\n",
    "    print(\"num2: \",two)     #100\n",
    "    print(\"num3: \",three)   # error, bcoz no parameter remain\n",
    "    add=(one+two+three)\n",
    "    avg=add/3\n",
    "    print(\"The avg is: \",avg)\n",
    "\n",
    "avg(20,100) "
   ]
  },
  {
   "cell_type": "markdown",
   "id": "1ba441e6-ac0c-41bb-8f06-57ef179a346e",
   "metadata": {},
   "source": [
    "- means inside def avg(n1,n2,n3) we use default parameter so :\n",
    "- (n1,n2,n3=300) =====> valid.............\n",
    "- (n1,n2=200,n3) =====> not valid\n",
    "- (n1=100,n2=200,n3) =====> not valid\n",
    "- (n1=100,n2,n3) =====> not valid\n",
    "- (n1,n2=200,n3=300) =====> valid............."
   ]
  },
  {
   "cell_type": "code",
   "execution_count": 45,
   "id": "0fd9fbaf-aca1-45b6-938c-335dea01a3cd",
   "metadata": {},
   "outputs": [
    {
     "name": "stdout",
     "output_type": "stream",
     "text": [
      "num1:  20\n",
      "num2:  30\n",
      "num3:  600\n",
      "The avg is:  2683.3333333333335\n"
     ]
    }
   ],
   "source": [
    "def avg(one,two,three=50):\n",
    "    print(\"num1: \", one)   #20\n",
    "    print(\"num2: \",two)    #30\n",
    "    print(\"num3: \",three)  \n",
    "    \n",
    "    three=8000    # but here three=8000\n",
    "    \n",
    "    add=(one+two+three)  # add=(20,30,8000)\n",
    "    avg=add/3\n",
    "    print(\"The avg is: \",avg)\n",
    "    \n",
    "avg(20,30,600) \n",
    "\n",
    "# while defining function.. three= 50\n",
    "# while calling function .. three= 600\n",
    "# after entering inside the function .. three= 8000\n"
   ]
  },
  {
   "cell_type": "code",
   "execution_count": 58,
   "id": "0b788f5b-1d14-4973-9150-9c3825a9dccf",
   "metadata": {},
   "outputs": [
    {
     "name": "stdout",
     "output_type": "stream",
     "text": [
      "200\n",
      "1500\n"
     ]
    }
   ],
   "source": [
    "def summ(a=10,b=20):\n",
    "    print(a*b)\n",
    "\n",
    "summ()  # 10*20\n",
    "summ(50,30)  # 50*30"
   ]
  },
  {
   "cell_type": "code",
   "execution_count": 17,
   "id": "26d9beee-5861-4f3b-8626-4992c709d3c6",
   "metadata": {},
   "outputs": [
    {
     "name": "stdin",
     "output_type": "stream",
     "text": [
      "Enter the radius of circle:  10\n"
     ]
    },
    {
     "name": "stdout",
     "output_type": "stream",
     "text": [
      "Area of circle of radius 10 is 314.1592653589793\n"
     ]
    }
   ],
   "source": [
    "# WAP to write area of circle.\n",
    "# basic methods\n",
    "# without arguments\n",
    "# with arguments\n",
    "#default arguments\n",
    "\n",
    "# basic methods:....................\n",
    "import math\n",
    "r= eval(input(\"Enter the radius of circle: \"))\n",
    "pie=math.pi\n",
    "area= pie*r*r\n",
    "print(\"Area of circle of radius {} is {}\".format(r,area))"
   ]
  },
  {
   "cell_type": "code",
   "execution_count": 7,
   "id": "16b86447-ea77-4276-a44a-64f8f6de400f",
   "metadata": {},
   "outputs": [
    {
     "name": "stdin",
     "output_type": "stream",
     "text": [
      "Enter the radius of circle:  6\n"
     ]
    },
    {
     "name": "stdout",
     "output_type": "stream",
     "text": [
      "Area of circle of radius 6 is 113.03999999999999\n"
     ]
    }
   ],
   "source": [
    "# without arguments..................\n",
    "def area():\n",
    "    r= eval(input(\"Enter the radius of circle: \"))\n",
    "    pie=3.14\n",
    "    area= pie*r*r\n",
    "    print(\"Area of circle of radius {} is {}\".format(r,area))\n",
    "\n",
    "area()"
   ]
  },
  {
   "cell_type": "code",
   "execution_count": 23,
   "id": "1ac13b83-e74d-4750-a106-3e342e36931d",
   "metadata": {},
   "outputs": [
    {
     "name": "stdin",
     "output_type": "stream",
     "text": [
      "Enter the radius of circle:  4\n"
     ]
    },
    {
     "name": "stdout",
     "output_type": "stream",
     "text": [
      "Area of circle of radius 4 is 50.24\n"
     ]
    }
   ],
   "source": [
    "# with arguments\n",
    "def area(a):\n",
    "    pie=3.14\n",
    "    area= pie*a*a\n",
    "    print(\"Area of circle of radius {} is {}\".format(r,area))\n",
    "    \n",
    "r= eval(input(\"Enter the radius of circle: \"))\n",
    "area(r)"
   ]
  },
  {
   "cell_type": "code",
   "execution_count": 39,
   "id": "3662e81f-2b71-428f-a5a8-8cb6552fb26c",
   "metadata": {},
   "outputs": [
    {
     "name": "stdout",
     "output_type": "stream",
     "text": [
      "Area of circle of radius 5 is 78.5\n",
      "Area of circle of radius 10 is 314.0\n"
     ]
    }
   ],
   "source": [
    "# with default arguments\n",
    "def area(a=5):\n",
    "    pie=3.14\n",
    "    ar= pie*a*a\n",
    "    print(\"Area of circle of radius {} is {}\".format(a,ar))\n",
    "\n",
    "area()  #default is 5\n",
    "area(10)"
   ]
  },
  {
   "cell_type": "code",
   "execution_count": 41,
   "id": "7428e0f1-3585-4856-96cf-5d8c183bcc52",
   "metadata": {},
   "outputs": [
    {
     "ename": "NameError",
     "evalue": "name 'ar' is not defined",
     "output_type": "error",
     "traceback": [
      "\u001b[1;31m---------------------------------------------------------------------------\u001b[0m",
      "\u001b[1;31mNameError\u001b[0m                                 Traceback (most recent call last)",
      "Cell \u001b[1;32mIn[41], line 1\u001b[0m\n\u001b[1;32m----> 1\u001b[0m ar\n",
      "\u001b[1;31mNameError\u001b[0m: name 'ar' is not defined"
     ]
    }
   ],
   "source": [
    "ar\n",
    "# function is calculating area value i.e ar\n",
    "# but it is not providing (return) that value to you\n",
    "# and when you want to use that value outside the function =====> generate error\n"
   ]
  },
  {
   "cell_type": "markdown",
   "id": "df1ceada-1d0d-4b88-a10c-77f98a2e3d3e",
   "metadata": {},
   "source": [
    "# return .... concept \n",
    "### used to returning the values outside the function \n",
    "### used to use values outside the function"
   ]
  },
  {
   "cell_type": "code",
   "execution_count": 46,
   "id": "05bc8da2-51c0-4f6a-83c0-7b3224b006ca",
   "metadata": {},
   "outputs": [
    {
     "name": "stdout",
     "output_type": "stream",
     "text": [
      "Area of circle of radius 5 is 78.5\n",
      "Area of circle of radius 10 is 314.0\n"
     ]
    },
    {
     "data": {
      "text/plain": [
       "314.0"
      ]
     },
     "execution_count": 46,
     "metadata": {},
     "output_type": "execute_result"
    }
   ],
   "source": [
    "# with default arguments\n",
    "def area(a=5):\n",
    "    pie=3.14\n",
    "    ar= pie*a*a\n",
    "    print(\"Area of circle of radius {} is {}\".format(a,ar))\n",
    "    return(ar)\n",
    "area()  #default is 5\n",
    "area(10)"
   ]
  },
  {
   "cell_type": "code",
   "execution_count": 58,
   "id": "055391de-b341-4ce8-9882-219c9fbc158f",
   "metadata": {},
   "outputs": [
    {
     "name": "stdout",
     "output_type": "stream",
     "text": [
      "Area of circle of radius 10 is 314.0\n",
      "the value stored in my_value is  314.0\n"
     ]
    }
   ],
   "source": [
    "# this variable \"my_value\" is storing the value of \"ar\" which is return by \"area(10)\" function\n",
    "# bcoz we used \"return(ar)\" \n",
    "my_value= area(10)\n",
    "print(\"the value stored in my_value is \",my_value)"
   ]
  },
  {
   "cell_type": "code",
   "execution_count": 68,
   "id": "11ee1ef7-1de2-402c-a193-af09561eb5b6",
   "metadata": {},
   "outputs": [
    {
     "name": "stdout",
     "output_type": "stream",
     "text": [
      "Area of circle of radius 5 is 78.5\n",
      "AREA IS:  78.5\n",
      "PII IS:  3.14\n"
     ]
    }
   ],
   "source": [
    "def area(a=5):\n",
    "    pie=3.14\n",
    "    ar= pie*a*a\n",
    "    print(\"Area of circle of radius {} is {}\".format(a,ar))\n",
    "    return(ar,pie)\n",
    "    \n",
    "AREA,PII=area()\n",
    "# here value of ar is stored in AREA\n",
    "# and value of pie is stored in PII\n",
    "print(\"AREA IS: \",AREA)\n",
    "print(\"PII IS: \",PII)"
   ]
  },
  {
   "cell_type": "code",
   "execution_count": 81,
   "id": "b774ed7d-61ab-4a4e-bbb3-163bba0b2025",
   "metadata": {},
   "outputs": [
    {
     "name": "stdout",
     "output_type": "stream",
     "text": [
      "num1:  20\n",
      "num2:  30\n",
      "num3:  50\n",
      "The avg is:  33.333333333333336\n"
     ]
    }
   ],
   "source": [
    "#WAP to return avg of 3 numbers:\n",
    "def average(one,two,three):\n",
    "    print(\"num1: \", one)  #20\n",
    "    print(\"num2: \",two)   # 30\n",
    "    print(\"num3: \",three)   # 50\n",
    "    add=(one+two+three)\n",
    "    avg=add/3\n",
    "    \n",
    "    return(avg)     #means the value of avg is return and saved in final_a \n",
    "    \n",
    "final_a = average(20,30,50)\n",
    "print(\"The avg is: \",final_a)"
   ]
  },
  {
   "cell_type": "code",
   "execution_count": 89,
   "id": "db046bca-8f3f-46d7-8253-d7e01a8e86cf",
   "metadata": {},
   "outputs": [
    {
     "name": "stdout",
     "output_type": "stream",
     "text": [
      "num1:  20\n",
      "num2:  30\n",
      "num3:  50\n",
      "The SUM and AVG is: 100 , 33.333333333333336 \n"
     ]
    }
   ],
   "source": [
    "def average(one,two,three):\n",
    "    print(\"num1: \", one)  #20\n",
    "    print(\"num2: \",two)   # 30\n",
    "    print(\"num3: \",three)   # 50\n",
    "    \n",
    "    return(one+two+three,(one+two+three)/3)     #we can use direct without storing it in variable \n",
    "    \n",
    "ADD,AVG = average(20,30,50)\n",
    "print(\"The SUM and AVG is: {} , {} \".format(ADD,AVG))"
   ]
  },
  {
   "cell_type": "code",
   "execution_count": 83,
   "id": "2a1ebfb6-3d75-44ad-baef-8a0826010da1",
   "metadata": {},
   "outputs": [
    {
     "name": "stdin",
     "output_type": "stream",
     "text": [
      "Enter the first value:  5\n",
      "Enter the second value:  10\n",
      "Enter the third value:  15\n"
     ]
    },
    {
     "name": "stdout",
     "output_type": "stream",
     "text": [
      "The greater value among 5, 10,15 is: 15\n"
     ]
    }
   ],
   "source": [
    "#WAP to return the biggest no. under three\n",
    "def greater(n1,n2,n3):\n",
    "    if n1>n2 and n1>n3:\n",
    "        return n1\n",
    "    elif n2>n3:\n",
    "        return n2\n",
    "    else:\n",
    "        return n3\n",
    "a= eval(input(\"Enter the first value: \"))\n",
    "b= eval(input(\"Enter the second value: \"))\n",
    "c= eval(input(\"Enter the third value: \"))\n",
    "bigger= greater(a,b,c)\n",
    "print(\"The greater value among {}, {}, {} is: {}\".format(a,b,c,bigger))"
   ]
  },
  {
   "cell_type": "code",
   "execution_count": 85,
   "id": "8af1c8cc-2b70-4684-b13a-1efe3f509b31",
   "metadata": {},
   "outputs": [
    {
     "name": "stdin",
     "output_type": "stream",
     "text": [
      "Enter the first value:  5\n",
      "Enter the second value:  10\n",
      "Enter the third value:  15\n"
     ]
    },
    {
     "name": "stdout",
     "output_type": "stream",
     "text": [
      "The greater value among 5, 10, 15 is: 15\n"
     ]
    }
   ],
   "source": [
    "# to avoid return using 3 times we save the value in another variable \"r\"\n",
    "def greater(n1,n2,n3):\n",
    "    if n1>n2 and n1>n3:\n",
    "        r=n1\n",
    "    elif n2>n3:\n",
    "        r=n2\n",
    "    else:\n",
    "        r=n3\n",
    "    return(r)\n",
    "a= eval(input(\"Enter the first value: \"))\n",
    "b= eval(input(\"Enter the second value: \"))\n",
    "c= eval(input(\"Enter the third value: \"))\n",
    "bigger= greater(a,b,c)\n",
    "print(\"The greater value among {}, {}, {} is: {}\".format(a,b,c,bigger))"
   ]
  },
  {
   "cell_type": "code",
   "execution_count": 101,
   "id": "347315bc-df5d-4538-9cd5-06b8c1d4dbe2",
   "metadata": {},
   "outputs": [
    {
     "name": "stdout",
     "output_type": "stream",
     "text": [
      "sum is : 50\n"
     ]
    }
   ],
   "source": [
    "def add(a,b): return (a+b)  #we can write without indentation too\n",
    "val= add(20,30)\n",
    "print(\"sum is :\",val)   #direct use..... easy.... less lines"
   ]
  },
  {
   "cell_type": "code",
   "execution_count": 103,
   "id": "ce0d53c3-cf17-4945-ba97-5409eb868325",
   "metadata": {},
   "outputs": [
    {
     "name": "stdout",
     "output_type": "stream",
     "text": [
      "The add=50, sub=-10, mul=600, div=0.67 \n"
     ]
    }
   ],
   "source": [
    "# easy code to get add,sub,mul,div of 2 values:\n",
    "#.........less line code..............................\n",
    "def aggregate(a,b):\n",
    "    return(a+b,a-b,a*b,a/b)\n",
    "add,sub,mul,div=aggregate(20,30)\n",
    "print(\"The add={}, sub={}, mul={}, div={} \".format(add,sub,mul,round(div,2)))"
   ]
  },
  {
   "cell_type": "code",
   "execution_count": null,
   "id": "fe431138-78c5-4381-886c-307dd6ec6d48",
   "metadata": {},
   "outputs": [],
   "source": []
  }
 ],
 "metadata": {
  "kernelspec": {
   "display_name": "Python 3 (ipykernel)",
   "language": "python",
   "name": "python3"
  },
  "language_info": {
   "codemirror_mode": {
    "name": "ipython",
    "version": 3
   },
   "file_extension": ".py",
   "mimetype": "text/x-python",
   "name": "python",
   "nbconvert_exporter": "python",
   "pygments_lexer": "ipython3",
   "version": "3.12.7"
  }
 },
 "nbformat": 4,
 "nbformat_minor": 5
}
