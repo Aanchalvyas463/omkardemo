{
 "cells": [
  {
   "cell_type": "markdown",
   "id": "3480f78b-b2a6-4fce-9cd1-3cd4ebebd5f0",
   "metadata": {},
   "source": [
    "# **Local Variables :**"
   ]
  },
  {
   "cell_type": "markdown",
   "id": "457361ae-7207-4271-bd34-72ce2f213bdb",
   "metadata": {},
   "source": [
    "### Local Variables:\n",
    "- means the variables provided inside the function\n",
    "- we cannot access it outside the function\n",
    "- if you want to access it outside.... use.. return\n",
    "- no need to use any keyword to defined it as local\n",
    "### Global Variables:\n",
    "- means the variables provided outside the function\n",
    "- we can access it anywhere in the code.. it is globally defined\n",
    "- no need to use any keyword to defined it as global"
   ]
  },
  {
   "cell_type": "code",
   "execution_count": 10,
   "id": "79677774-d75d-4d96-a3d0-e751497d9f87",
   "metadata": {},
   "outputs": [
    {
     "name": "stdout",
     "output_type": "stream",
     "text": [
      "addition is:  30\n"
     ]
    }
   ],
   "source": [
    "# local\n",
    "\n",
    "# here n1 and n2 are local variables.....\n",
    "def add():\n",
    "    n1=10\n",
    "    n2=20\n",
    "    add=n1+n2\n",
    "    print(\"addition is: \",add)\n",
    "add()\n",
    "    "
   ]
  },
  {
   "cell_type": "code",
   "execution_count": 18,
   "id": "3187a15f-acd5-49b9-adcd-32b0aeb0a2e6",
   "metadata": {},
   "outputs": [
    {
     "name": "stdout",
     "output_type": "stream",
     "text": [
      "addition is:  30\n"
     ]
    }
   ],
   "source": [
    "# global\n",
    "\n",
    "n1=10\n",
    "n2=20\n",
    "# here n1 and n2 are global variables.....\n",
    "\n",
    "def add():  #no need to provide inside bracket also\n",
    "    add=n1+n2\n",
    "    print(\"addition is: \",add)\n",
    "add()"
   ]
  },
  {
   "cell_type": "code",
   "execution_count": null,
   "id": "bf04abec-2e17-4f52-bd48-184fc70c567d",
   "metadata": {},
   "outputs": [],
   "source": []
  },
  {
   "cell_type": "code",
   "execution_count": null,
   "id": "5e41b6bc-6c0d-404d-80b6-67655a03eb22",
   "metadata": {},
   "outputs": [],
   "source": []
  },
  {
   "cell_type": "code",
   "execution_count": null,
   "id": "6f167809-a0e5-4b0c-adab-846df87322dd",
   "metadata": {},
   "outputs": [],
   "source": []
  },
  {
   "cell_type": "code",
   "execution_count": null,
   "id": "e5ef3174-c018-42ba-8674-6c7636dd02e9",
   "metadata": {},
   "outputs": [],
   "source": []
  },
  {
   "cell_type": "code",
   "execution_count": null,
   "id": "0c79207a-37bd-4db1-850a-07650043d98a",
   "metadata": {},
   "outputs": [],
   "source": []
  },
  {
   "cell_type": "code",
   "execution_count": null,
   "id": "8808b13f-9065-4096-ad9c-84ada04b40db",
   "metadata": {},
   "outputs": [],
   "source": []
  },
  {
   "cell_type": "code",
   "execution_count": null,
   "id": "f5806752-4915-4abe-b723-e709f7a369ca",
   "metadata": {},
   "outputs": [],
   "source": []
  },
  {
   "cell_type": "code",
   "execution_count": null,
   "id": "d7dc05da-d729-4fe9-b5dd-822d15188ac6",
   "metadata": {},
   "outputs": [],
   "source": []
  },
  {
   "cell_type": "code",
   "execution_count": null,
   "id": "c6f08f03-2804-4eef-8927-b1c6282c831b",
   "metadata": {},
   "outputs": [],
   "source": []
  },
  {
   "cell_type": "code",
   "execution_count": null,
   "id": "429ac9a0-389d-4aff-a3f1-15dfcb58c784",
   "metadata": {},
   "outputs": [],
   "source": []
  },
  {
   "cell_type": "code",
   "execution_count": null,
   "id": "4e845302-52e7-42ef-a909-120241acb813",
   "metadata": {},
   "outputs": [],
   "source": []
  },
  {
   "cell_type": "code",
   "execution_count": null,
   "id": "e98bc586-76a5-4526-99a2-3831e612629a",
   "metadata": {},
   "outputs": [],
   "source": []
  },
  {
   "cell_type": "code",
   "execution_count": null,
   "id": "b15334fc-1ce2-4dc4-8c50-7e7cc618b42f",
   "metadata": {},
   "outputs": [],
   "source": []
  },
  {
   "cell_type": "code",
   "execution_count": null,
   "id": "ab7c591d-4374-4422-9471-b370336c254a",
   "metadata": {},
   "outputs": [],
   "source": []
  }
 ],
 "metadata": {
  "kernelspec": {
   "display_name": "Python 3 (ipykernel)",
   "language": "python",
   "name": "python3"
  },
  "language_info": {
   "codemirror_mode": {
    "name": "ipython",
    "version": 3
   },
   "file_extension": ".py",
   "mimetype": "text/x-python",
   "name": "python",
   "nbconvert_exporter": "python",
   "pygments_lexer": "ipython3",
   "version": "3.12.7"
  }
 },
 "nbformat": 4,
 "nbformat_minor": 5
}
