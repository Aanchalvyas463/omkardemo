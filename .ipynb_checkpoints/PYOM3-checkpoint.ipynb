{
 "cells": [
  {
   "cell_type": "markdown",
   "id": "7c64a329-6c26-4dc5-83ab-8165637b5e72",
   "metadata": {},
   "source": [
    "# Assignment 1 questions"
   ]
  },
  {
   "cell_type": "markdown",
   "id": "3b8e1562-826a-476b-9f3d-62a2ffc3b9e8",
   "metadata": {},
   "source": [
    "1. Ask the user to enter a number. Print out the square of the number,\n",
    "but use the sep optional argument to print it out in a full sentence that\n",
    "ends in a period.\n",
    "\n",
    "Sample output is shown below.\n",
    "- Enter a number: 5\n",
    "- The square of 5 is 25."
   ]
  },
  {
   "cell_type": "code",
   "execution_count": 1,
   "id": "ed816c72-d2f6-40b1-9384-f3c067023c4e",
   "metadata": {},
   "outputs": [
    {
     "name": "stdin",
     "output_type": "stream",
     "text": [
      "Enter a Number : 5\n"
     ]
    },
    {
     "name": "stdout",
     "output_type": "stream",
     "text": [
      "The square of 5 is 25\n"
     ]
    }
   ],
   "source": [
    "a= int(input(\"Enter a Number :\"))\n",
    "b=a**2\n",
    "print(\"The square of {} is {}\".format(a,b))"
   ]
  },
  {
   "cell_type": "markdown",
   "id": "e5da6435-976b-47cc-832a-5075c8d9a6b2",
   "metadata": {},
   "source": [
    "2. Ask the user to enter a number x. Use the sep optional argument to\n",
    "print out x, 2x, 3x, 4x, and 5x, each separated by three dashes, like\n",
    "below.\n",
    "\n",
    "- Enter a number: 7\n",
    "- 7 --- 14 --- 21 --- 28 --- 35"
   ]
  },
  {
   "cell_type": "code",
   "execution_count": 3,
   "id": "6b211f56-1091-41aa-ae62-9ee12c54073c",
   "metadata": {},
   "outputs": [
    {
     "name": "stdin",
     "output_type": "stream",
     "text": [
      "Enter a Number: 7\n"
     ]
    },
    {
     "name": "stdout",
     "output_type": "stream",
     "text": [
      "7 --- 14 --- 21 --- 28 --- 35\n"
     ]
    }
   ],
   "source": [
    "a=int(input(\"Enter a Number:\"))\n",
    "print(a,a*2,a*3,a*4,a*5,sep=\" --- \")"
   ]
  },
  {
   "cell_type": "markdown",
   "id": "49c8a050-dd7e-4e49-a1cc-58a021a29187",
   "metadata": {},
   "source": [
    "3. Write a program that asks the user for a weight in kilograms and\n",
    "converts it to pounds. There are 2.2 pounds in a kilogram."
   ]
  },
  {
   "cell_type": "code",
   "execution_count": 5,
   "id": "f4d38aee-b9c5-4bb4-aec4-f5e5f4219605",
   "metadata": {},
   "outputs": [
    {
     "name": "stdin",
     "output_type": "stream",
     "text": [
      "Enter the weight in Kilograms  5\n"
     ]
    },
    {
     "name": "stdout",
     "output_type": "stream",
     "text": [
      "A weight of 5.0 kilograms is equals to 11.0 pounds\n"
     ]
    }
   ],
   "source": [
    "a=float(input(\"Enter the weight in Kilograms \"))\n",
    "pound=a*2.2\n",
    "print(\"A weight of {} kilograms is equals to {} pounds\".format(a,pound))"
   ]
  },
  {
   "cell_type": "markdown",
   "id": "0bf5e4b9-0ead-4903-b082-3f519234c3d0",
   "metadata": {},
   "source": [
    "4. Write a program that asks the user to enter three numbers (use three\n",
    "separate input statements).Create variables called total and average\n",
    "that hold the sum and average of the three numbers and print out the\n",
    "values of total and average."
   ]
  },
  {
   "cell_type": "markdown",
   "id": "b2d5bf13-d4e0-4bc3-9d70-229114556ee5",
   "metadata": {},
   "source": [
    "## Time library to delay output"
   ]
  },
  {
   "cell_type": "code",
   "execution_count": 27,
   "id": "69cf66ce-9988-4044-bfe3-78990818f7bf",
   "metadata": {},
   "outputs": [
    {
     "name": "stdin",
     "output_type": "stream",
     "text": [
      "Enter the first no.: 4\n",
      "Enter the second no.: 5\n",
      "Enter the third no.: 7\n"
     ]
    },
    {
     "name": "stdout",
     "output_type": "stream",
     "text": [
      "The Sum of three numbers: 4.0,5.0,7.0 is 16.0 and Average is: 5.333333333333333\n"
     ]
    }
   ],
   "source": [
    "import time\n",
    "a=float(input(\"Enter the first no.:\"))\n",
    "time.sleep(2)       # this functn is used to delay in output.. here delay is 2 seconds\n",
    "b=float(input(\"Enter the second no.:\"))\n",
    "time.sleep(2)\n",
    "c=float(input(\"Enter the third no.:\"))\n",
    "total= a+b+c\n",
    "average=((a+b+c)/3)\n",
    "time.sleep(2)\n",
    "print(\"The Sum of three numbers: {},{},{} is {} and Average is: {}\".format(a,b,c,total,average))"
   ]
  },
  {
   "cell_type": "markdown",
   "id": "e2dc37e7-749f-43f5-8300-58b1b956deff",
   "metadata": {},
   "source": [
    "5. A lot of cell phones have tip calculators. Write one. Ask the user for\n",
    "the price of the meal and the percent tip they want to leave. Then\n",
    "print both the tip amount and the total bill with the tip included.\n",
    "\n"
   ]
  },
  {
   "cell_type": "code",
   "execution_count": 23,
   "id": "c138863b-603f-4d00-a9ac-e70c924027c6",
   "metadata": {},
   "outputs": [
    {
     "name": "stdout",
     "output_type": "stream",
     "text": [
      "44\n",
      "The Random no is: 44 & is Square is :1936\n"
     ]
    }
   ],
   "source": [
    "#WAP ask the user get a random value between 1 to 100\n",
    "#perform the square of the number\n",
    "import random\n",
    "a=int(random.randint(1,100))\n",
    "print(a)\n",
    "sq=a**2\n",
    "print(\"The Random no is: {} & is Square is :{}\".format(a,sq))"
   ]
  },
  {
   "cell_type": "markdown",
   "id": "45ec93eb-5437-464b-add5-563b8d7f6553",
   "metadata": {},
   "source": [
    "# Assignment 2"
   ]
  },
  {
   "cell_type": "markdown",
   "id": "d2b6dfea-b674-490a-af4a-f1824d73b9bb",
   "metadata": {},
   "source": [
    "1. Ramesh's basic salary is input through the keyboard. His dearness allowance is 40% of\n",
    "basic salary, and house rent allowance is 20% of basic salary. Write a program to\n",
    "calculate his gross salary."
   ]
  },
  {
   "cell_type": "code",
   "execution_count": null,
   "id": "e204100a-1483-4ac9-8695-5b8b7332b57f",
   "metadata": {},
   "outputs": [],
   "source": [
    "\n"
   ]
  },
  {
   "cell_type": "markdown",
   "id": "e8ee1b4b-2913-424b-a9d5-d48ccef35488",
   "metadata": {},
   "source": [
    "2. The distance between two cities (in km.) is input through the keyboard. Write a program\n",
    "to convert and print this distance in meters, feet, inches and centimeters."
   ]
  },
  {
   "cell_type": "code",
   "execution_count": null,
   "id": "6e2aea02-df8e-40f0-9997-f012e8644539",
   "metadata": {},
   "outputs": [],
   "source": []
  },
  {
   "cell_type": "markdown",
   "id": "40bd71aa-5da7-4602-a916-eea94fed76e8",
   "metadata": {},
   "source": [
    "3. If the marks obtained by a student in five different subjects are input through the\n",
    "keyboard, find out the aggregate marks and percentage marks obtained by the student.\n",
    "Assume that the maximum marks that can be obtained by a student in each subject is 100."
   ]
  },
  {
   "cell_type": "code",
   "execution_count": null,
   "id": "f4964811-6f9c-44e6-8bd5-1dcf70de487d",
   "metadata": {},
   "outputs": [],
   "source": []
  },
  {
   "cell_type": "markdown",
   "id": "d8c7d3bc-ca38-4ae6-8063-38a5845baa06",
   "metadata": {},
   "source": [
    "4. Temperature of a city in Fahrenheit degrees is input through the keyboard. Write a\n",
    "program to convert this temperature into Centigrade degrees."
   ]
  },
  {
   "cell_type": "code",
   "execution_count": null,
   "id": "22ed4e4e-e13f-4c62-bd17-48dab4ff30dd",
   "metadata": {},
   "outputs": [],
   "source": []
  },
  {
   "cell_type": "markdown",
   "id": "b0face69-659f-4c5f-897c-8754b694432d",
   "metadata": {},
   "source": [
    "5. The length & breadth of a rectangle and radius of a circle are input through the\n",
    "keyboard. Write a program to calculate the area & perimeter of the rectangle, and the\n",
    "area & circumference of the circle."
   ]
  },
  {
   "cell_type": "code",
   "execution_count": null,
   "id": "aafa6205-4137-4f8e-b8e5-960dc07cffb2",
   "metadata": {},
   "outputs": [],
   "source": []
  },
  {
   "cell_type": "markdown",
   "id": "f5649afa-5c78-416c-af49-cbf46edf57ef",
   "metadata": {},
   "source": [
    "6. Two numbers are input through the keyboard into two locations C and D. Write a\n",
    "program to interchange the contents of C and D."
   ]
  },
  {
   "cell_type": "code",
   "execution_count": null,
   "id": "be1d0ef0-354e-4809-9b0c-69d885581fce",
   "metadata": {},
   "outputs": [],
   "source": []
  },
  {
   "cell_type": "markdown",
   "id": "ccee53b5-8adb-4e35-a82c-97478829dc8d",
   "metadata": {},
   "source": [
    "7. If a five-digit number is input through the keyboard, write a program to reverse the\n",
    "number."
   ]
  },
  {
   "cell_type": "code",
   "execution_count": null,
   "id": "ebe8592c-3df8-4e0c-a158-d6f9c0083b8d",
   "metadata": {},
   "outputs": [],
   "source": []
  },
  {
   "cell_type": "markdown",
   "id": "3bbd3f39-6ace-4e38-998f-e6a401ab1d26",
   "metadata": {},
   "source": [
    "8. If a four-digit number is input through the keyboard, write a program to obtain the sum of\n",
    "the first and last digit of this number."
   ]
  },
  {
   "cell_type": "code",
   "execution_count": null,
   "id": "7eb54c36-eacd-4c23-a3f0-4864465c32b5",
   "metadata": {},
   "outputs": [],
   "source": []
  },
  {
   "cell_type": "markdown",
   "id": "ad31f850-453a-4f43-b3bc-70773237ece0",
   "metadata": {},
   "source": [
    "9. In a town, the percentage of men is 52. The percentage of total literacy is 48. If total\n",
    "percentage of literate men is 35 of the total population, write a program to find the total\n",
    "number of illiterate men and women if the population of the town is 80,000."
   ]
  },
  {
   "cell_type": "code",
   "execution_count": null,
   "id": "8d4c6af8-02ae-48f3-a4e6-055b70675128",
   "metadata": {},
   "outputs": [],
   "source": []
  },
  {
   "cell_type": "markdown",
   "id": "33c10024-708a-4ea8-8757-aa8a58e76f8a",
   "metadata": {},
   "source": [
    "10. A cashier has currency notes of denominations 10, 50 and 100. If the amount to be\n",
    "withdrawn is input through the keyboard in hundreds, find the total number of currency\n",
    "notes of each denomination the cashier will have to give to the withdrawer."
   ]
  },
  {
   "cell_type": "code",
   "execution_count": null,
   "id": "c900be19-8072-4917-956c-637f62212c59",
   "metadata": {},
   "outputs": [],
   "source": []
  },
  {
   "cell_type": "code",
   "execution_count": null,
   "id": "d2a0ea2d-715a-4975-977f-04a7b5a0426d",
   "metadata": {},
   "outputs": [],
   "source": []
  },
  {
   "cell_type": "code",
   "execution_count": null,
   "id": "a301fade-a20e-4ce7-9ab4-7f2755187114",
   "metadata": {},
   "outputs": [],
   "source": []
  },
  {
   "cell_type": "code",
   "execution_count": null,
   "id": "150ddf53-a531-4084-aa55-d81ff6ee20e1",
   "metadata": {},
   "outputs": [],
   "source": []
  },
  {
   "cell_type": "code",
   "execution_count": null,
   "id": "27e3f620-9c82-4a1a-830f-25d17d74e6db",
   "metadata": {},
   "outputs": [],
   "source": []
  },
  {
   "cell_type": "code",
   "execution_count": null,
   "id": "a57379e3-8b2c-4eb9-bb2f-c927aa338104",
   "metadata": {},
   "outputs": [],
   "source": []
  },
  {
   "cell_type": "code",
   "execution_count": null,
   "id": "57b66e30-73b0-40d0-b367-e0abb5d3fcbe",
   "metadata": {},
   "outputs": [],
   "source": []
  },
  {
   "cell_type": "code",
   "execution_count": null,
   "id": "f2cfdd59-e5a8-4d18-ab78-7b8f63855b3b",
   "metadata": {},
   "outputs": [],
   "source": []
  },
  {
   "cell_type": "code",
   "execution_count": null,
   "id": "05c54e70-e248-4086-846c-352f22459157",
   "metadata": {},
   "outputs": [],
   "source": []
  },
  {
   "cell_type": "code",
   "execution_count": null,
   "id": "4317b114-bbbb-48cf-a424-27f05735bf1d",
   "metadata": {},
   "outputs": [],
   "source": []
  },
  {
   "cell_type": "code",
   "execution_count": null,
   "id": "48fef1cc-e2b0-4be7-84da-a6295cd5fc9d",
   "metadata": {},
   "outputs": [],
   "source": []
  }
 ],
 "metadata": {
  "kernelspec": {
   "display_name": "Python 3 (ipykernel)",
   "language": "python",
   "name": "python3"
  },
  "language_info": {
   "codemirror_mode": {
    "name": "ipython",
    "version": 3
   },
   "file_extension": ".py",
   "mimetype": "text/x-python",
   "name": "python",
   "nbconvert_exporter": "python",
   "pygments_lexer": "ipython3",
   "version": "3.12.7"
  }
 },
 "nbformat": 4,
 "nbformat_minor": 5
}
